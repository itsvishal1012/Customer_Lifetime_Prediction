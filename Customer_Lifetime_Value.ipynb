{
 "cells": [
  {
   "cell_type": "code",
   "execution_count": 1,
   "id": "45fd366d-4b77-4791-8799-b009ca2f4809",
   "metadata": {},
   "outputs": [],
   "source": [
    "# importing all the required modules\n",
    "import pandas as pd\n",
    "import numpy as np\n",
    "import matplotlib.pyplot as plt\n",
    "import seaborn as sns\n",
    "import datetime as dt\n",
    "import os"
   ]
  },
  {
   "cell_type": "code",
   "execution_count": 2,
   "id": "1953a5a7-171a-46d0-b317-6e410518d068",
   "metadata": {},
   "outputs": [],
   "source": [
    "# loading the excel file \n",
    "file_path = \"online_retail_II.xlsx\""
   ]
  },
  {
   "cell_type": "code",
   "execution_count": 3,
   "id": "6c2dbf5f-63f2-4ada-b343-ef70ae8499ca",
   "metadata": {},
   "outputs": [],
   "source": [
    "# Load sheet names to determine structure\n",
    "excel_file = pd.ExcelFile(file_path)\n",
    "sheet_names = excel_file.sheet_names"
   ]
  },
  {
   "cell_type": "code",
   "execution_count": 4,
   "id": "04088958-7e38-417d-981e-7ec590b7ba71",
   "metadata": {},
   "outputs": [
    {
     "name": "stdout",
     "output_type": "stream",
     "text": [
      "['Year 2009-2010', 'Year 2010-2011']\n"
     ]
    }
   ],
   "source": [
    "# printing the names of the sheet present in our excel file\n",
    "print(sheet_names)"
   ]
  },
  {
   "cell_type": "code",
   "execution_count": 5,
   "id": "d27da84e-fa5f-4631-83f3-b118e47d9c38",
   "metadata": {},
   "outputs": [],
   "source": [
    "# Load and concatenate both sheets\n",
    "df_1 = pd.read_excel(file_path, sheet_name='Year 2009-2010')\n",
    "df_2 = pd.read_excel(file_path, sheet_name='Year 2010-2011')"
   ]
  },
  {
   "cell_type": "code",
   "execution_count": 6,
   "id": "bdfe60a3-3ed3-42a0-88eb-ac4b899915a9",
   "metadata": {},
   "outputs": [],
   "source": [
    "# Combine data\n",
    "df = pd.concat([df_1, df_2], ignore_index=True)"
   ]
  },
  {
   "cell_type": "code",
   "execution_count": 7,
   "id": "f3ccf18f-091b-4c9a-aa6f-34939959bc85",
   "metadata": {},
   "outputs": [
    {
     "data": {
      "text/plain": [
       "(1067371, 8)"
      ]
     },
     "execution_count": 7,
     "metadata": {},
     "output_type": "execute_result"
    }
   ],
   "source": [
    "# to determine the number of rows and columns\n",
    "df.shape"
   ]
  },
  {
   "cell_type": "code",
   "execution_count": 8,
   "id": "7a7f40bc-1864-45c1-8b48-c59a7a794ef8",
   "metadata": {},
   "outputs": [
    {
     "data": {
      "text/html": [
       "<div>\n",
       "<style scoped>\n",
       "    .dataframe tbody tr th:only-of-type {\n",
       "        vertical-align: middle;\n",
       "    }\n",
       "\n",
       "    .dataframe tbody tr th {\n",
       "        vertical-align: top;\n",
       "    }\n",
       "\n",
       "    .dataframe thead th {\n",
       "        text-align: right;\n",
       "    }\n",
       "</style>\n",
       "<table border=\"1\" class=\"dataframe\">\n",
       "  <thead>\n",
       "    <tr style=\"text-align: right;\">\n",
       "      <th></th>\n",
       "      <th>Invoice</th>\n",
       "      <th>StockCode</th>\n",
       "      <th>Description</th>\n",
       "      <th>Quantity</th>\n",
       "      <th>InvoiceDate</th>\n",
       "      <th>Price</th>\n",
       "      <th>Customer ID</th>\n",
       "      <th>Country</th>\n",
       "    </tr>\n",
       "  </thead>\n",
       "  <tbody>\n",
       "    <tr>\n",
       "      <th>0</th>\n",
       "      <td>489434</td>\n",
       "      <td>85048</td>\n",
       "      <td>15CM CHRISTMAS GLASS BALL 20 LIGHTS</td>\n",
       "      <td>12</td>\n",
       "      <td>2009-12-01 07:45:00</td>\n",
       "      <td>6.95</td>\n",
       "      <td>13085.0</td>\n",
       "      <td>United Kingdom</td>\n",
       "    </tr>\n",
       "    <tr>\n",
       "      <th>1</th>\n",
       "      <td>489434</td>\n",
       "      <td>79323P</td>\n",
       "      <td>PINK CHERRY LIGHTS</td>\n",
       "      <td>12</td>\n",
       "      <td>2009-12-01 07:45:00</td>\n",
       "      <td>6.75</td>\n",
       "      <td>13085.0</td>\n",
       "      <td>United Kingdom</td>\n",
       "    </tr>\n",
       "    <tr>\n",
       "      <th>2</th>\n",
       "      <td>489434</td>\n",
       "      <td>79323W</td>\n",
       "      <td>WHITE CHERRY LIGHTS</td>\n",
       "      <td>12</td>\n",
       "      <td>2009-12-01 07:45:00</td>\n",
       "      <td>6.75</td>\n",
       "      <td>13085.0</td>\n",
       "      <td>United Kingdom</td>\n",
       "    </tr>\n",
       "    <tr>\n",
       "      <th>3</th>\n",
       "      <td>489434</td>\n",
       "      <td>22041</td>\n",
       "      <td>RECORD FRAME 7\" SINGLE SIZE</td>\n",
       "      <td>48</td>\n",
       "      <td>2009-12-01 07:45:00</td>\n",
       "      <td>2.10</td>\n",
       "      <td>13085.0</td>\n",
       "      <td>United Kingdom</td>\n",
       "    </tr>\n",
       "    <tr>\n",
       "      <th>4</th>\n",
       "      <td>489434</td>\n",
       "      <td>21232</td>\n",
       "      <td>STRAWBERRY CERAMIC TRINKET BOX</td>\n",
       "      <td>24</td>\n",
       "      <td>2009-12-01 07:45:00</td>\n",
       "      <td>1.25</td>\n",
       "      <td>13085.0</td>\n",
       "      <td>United Kingdom</td>\n",
       "    </tr>\n",
       "  </tbody>\n",
       "</table>\n",
       "</div>"
      ],
      "text/plain": [
       "  Invoice StockCode                          Description  Quantity  \\\n",
       "0  489434     85048  15CM CHRISTMAS GLASS BALL 20 LIGHTS        12   \n",
       "1  489434    79323P                   PINK CHERRY LIGHTS        12   \n",
       "2  489434    79323W                  WHITE CHERRY LIGHTS        12   \n",
       "3  489434     22041         RECORD FRAME 7\" SINGLE SIZE         48   \n",
       "4  489434     21232       STRAWBERRY CERAMIC TRINKET BOX        24   \n",
       "\n",
       "          InvoiceDate  Price  Customer ID         Country  \n",
       "0 2009-12-01 07:45:00   6.95      13085.0  United Kingdom  \n",
       "1 2009-12-01 07:45:00   6.75      13085.0  United Kingdom  \n",
       "2 2009-12-01 07:45:00   6.75      13085.0  United Kingdom  \n",
       "3 2009-12-01 07:45:00   2.10      13085.0  United Kingdom  \n",
       "4 2009-12-01 07:45:00   1.25      13085.0  United Kingdom  "
      ]
     },
     "execution_count": 8,
     "metadata": {},
     "output_type": "execute_result"
    }
   ],
   "source": [
    "# print the first five rows \n",
    "df.head()"
   ]
  },
  {
   "cell_type": "code",
   "execution_count": 9,
   "id": "9c88dfda-fc24-45da-8c1c-a155ea29f997",
   "metadata": {},
   "outputs": [
    {
     "data": {
      "text/html": [
       "<div>\n",
       "<style scoped>\n",
       "    .dataframe tbody tr th:only-of-type {\n",
       "        vertical-align: middle;\n",
       "    }\n",
       "\n",
       "    .dataframe tbody tr th {\n",
       "        vertical-align: top;\n",
       "    }\n",
       "\n",
       "    .dataframe thead th {\n",
       "        text-align: right;\n",
       "    }\n",
       "</style>\n",
       "<table border=\"1\" class=\"dataframe\">\n",
       "  <thead>\n",
       "    <tr style=\"text-align: right;\">\n",
       "      <th></th>\n",
       "      <th>Invoice</th>\n",
       "      <th>StockCode</th>\n",
       "      <th>Description</th>\n",
       "      <th>Quantity</th>\n",
       "      <th>InvoiceDate</th>\n",
       "      <th>Price</th>\n",
       "      <th>Customer ID</th>\n",
       "      <th>Country</th>\n",
       "    </tr>\n",
       "  </thead>\n",
       "  <tbody>\n",
       "    <tr>\n",
       "      <th>1067366</th>\n",
       "      <td>581587</td>\n",
       "      <td>22899</td>\n",
       "      <td>CHILDREN'S APRON DOLLY GIRL</td>\n",
       "      <td>6</td>\n",
       "      <td>2011-12-09 12:50:00</td>\n",
       "      <td>2.10</td>\n",
       "      <td>12680.0</td>\n",
       "      <td>France</td>\n",
       "    </tr>\n",
       "    <tr>\n",
       "      <th>1067367</th>\n",
       "      <td>581587</td>\n",
       "      <td>23254</td>\n",
       "      <td>CHILDRENS CUTLERY DOLLY GIRL</td>\n",
       "      <td>4</td>\n",
       "      <td>2011-12-09 12:50:00</td>\n",
       "      <td>4.15</td>\n",
       "      <td>12680.0</td>\n",
       "      <td>France</td>\n",
       "    </tr>\n",
       "    <tr>\n",
       "      <th>1067368</th>\n",
       "      <td>581587</td>\n",
       "      <td>23255</td>\n",
       "      <td>CHILDRENS CUTLERY CIRCUS PARADE</td>\n",
       "      <td>4</td>\n",
       "      <td>2011-12-09 12:50:00</td>\n",
       "      <td>4.15</td>\n",
       "      <td>12680.0</td>\n",
       "      <td>France</td>\n",
       "    </tr>\n",
       "    <tr>\n",
       "      <th>1067369</th>\n",
       "      <td>581587</td>\n",
       "      <td>22138</td>\n",
       "      <td>BAKING SET 9 PIECE RETROSPOT</td>\n",
       "      <td>3</td>\n",
       "      <td>2011-12-09 12:50:00</td>\n",
       "      <td>4.95</td>\n",
       "      <td>12680.0</td>\n",
       "      <td>France</td>\n",
       "    </tr>\n",
       "    <tr>\n",
       "      <th>1067370</th>\n",
       "      <td>581587</td>\n",
       "      <td>POST</td>\n",
       "      <td>POSTAGE</td>\n",
       "      <td>1</td>\n",
       "      <td>2011-12-09 12:50:00</td>\n",
       "      <td>18.00</td>\n",
       "      <td>12680.0</td>\n",
       "      <td>France</td>\n",
       "    </tr>\n",
       "  </tbody>\n",
       "</table>\n",
       "</div>"
      ],
      "text/plain": [
       "        Invoice StockCode                      Description  Quantity  \\\n",
       "1067366  581587     22899     CHILDREN'S APRON DOLLY GIRL          6   \n",
       "1067367  581587     23254    CHILDRENS CUTLERY DOLLY GIRL          4   \n",
       "1067368  581587     23255  CHILDRENS CUTLERY CIRCUS PARADE         4   \n",
       "1067369  581587     22138    BAKING SET 9 PIECE RETROSPOT          3   \n",
       "1067370  581587      POST                          POSTAGE         1   \n",
       "\n",
       "                InvoiceDate  Price  Customer ID Country  \n",
       "1067366 2011-12-09 12:50:00   2.10      12680.0  France  \n",
       "1067367 2011-12-09 12:50:00   4.15      12680.0  France  \n",
       "1067368 2011-12-09 12:50:00   4.15      12680.0  France  \n",
       "1067369 2011-12-09 12:50:00   4.95      12680.0  France  \n",
       "1067370 2011-12-09 12:50:00  18.00      12680.0  France  "
      ]
     },
     "execution_count": 9,
     "metadata": {},
     "output_type": "execute_result"
    }
   ],
   "source": [
    "# print last five rows \n",
    "df.tail()"
   ]
  },
  {
   "cell_type": "code",
   "execution_count": 10,
   "id": "9ba1e72c-95ef-4e2f-ac86-2bb20924c622",
   "metadata": {},
   "outputs": [
    {
     "data": {
      "text/plain": [
       "Index(['Invoice', 'StockCode', 'Description', 'Quantity', 'InvoiceDate',\n",
       "       'Price', 'Customer ID', 'Country'],\n",
       "      dtype='object')"
      ]
     },
     "execution_count": 10,
     "metadata": {},
     "output_type": "execute_result"
    }
   ],
   "source": [
    "# printing all the names of the columns \n",
    "df.columns"
   ]
  },
  {
   "cell_type": "code",
   "execution_count": 11,
   "id": "fd2f0547-a80b-4207-b4cc-28a4e533a8d3",
   "metadata": {},
   "outputs": [
    {
     "name": "stdout",
     "output_type": "stream",
     "text": [
      "<class 'pandas.core.frame.DataFrame'>\n",
      "RangeIndex: 1067371 entries, 0 to 1067370\n",
      "Data columns (total 8 columns):\n",
      " #   Column       Non-Null Count    Dtype         \n",
      "---  ------       --------------    -----         \n",
      " 0   Invoice      1067371 non-null  object        \n",
      " 1   StockCode    1067371 non-null  object        \n",
      " 2   Description  1062989 non-null  object        \n",
      " 3   Quantity     1067371 non-null  int64         \n",
      " 4   InvoiceDate  1067371 non-null  datetime64[ns]\n",
      " 5   Price        1067371 non-null  float64       \n",
      " 6   Customer ID  824364 non-null   float64       \n",
      " 7   Country      1067371 non-null  object        \n",
      "dtypes: datetime64[ns](1), float64(2), int64(1), object(4)\n",
      "memory usage: 65.1+ MB\n"
     ]
    }
   ],
   "source": [
    "# display a concise summary of a DataFrame\n",
    "df.info()"
   ]
  },
  {
   "cell_type": "code",
   "execution_count": 12,
   "id": "6a672be6-e0cd-42ca-980d-1691ace7a1d2",
   "metadata": {},
   "outputs": [
    {
     "data": {
      "text/html": [
       "<div>\n",
       "<style scoped>\n",
       "    .dataframe tbody tr th:only-of-type {\n",
       "        vertical-align: middle;\n",
       "    }\n",
       "\n",
       "    .dataframe tbody tr th {\n",
       "        vertical-align: top;\n",
       "    }\n",
       "\n",
       "    .dataframe thead th {\n",
       "        text-align: right;\n",
       "    }\n",
       "</style>\n",
       "<table border=\"1\" class=\"dataframe\">\n",
       "  <thead>\n",
       "    <tr style=\"text-align: right;\">\n",
       "      <th></th>\n",
       "      <th>Quantity</th>\n",
       "      <th>InvoiceDate</th>\n",
       "      <th>Price</th>\n",
       "      <th>Customer ID</th>\n",
       "    </tr>\n",
       "  </thead>\n",
       "  <tbody>\n",
       "    <tr>\n",
       "      <th>count</th>\n",
       "      <td>1.067371e+06</td>\n",
       "      <td>1067371</td>\n",
       "      <td>1.067371e+06</td>\n",
       "      <td>824364.000000</td>\n",
       "    </tr>\n",
       "    <tr>\n",
       "      <th>mean</th>\n",
       "      <td>9.938898e+00</td>\n",
       "      <td>2011-01-02 21:13:55.394028544</td>\n",
       "      <td>4.649388e+00</td>\n",
       "      <td>15324.638504</td>\n",
       "    </tr>\n",
       "    <tr>\n",
       "      <th>min</th>\n",
       "      <td>-8.099500e+04</td>\n",
       "      <td>2009-12-01 07:45:00</td>\n",
       "      <td>-5.359436e+04</td>\n",
       "      <td>12346.000000</td>\n",
       "    </tr>\n",
       "    <tr>\n",
       "      <th>25%</th>\n",
       "      <td>1.000000e+00</td>\n",
       "      <td>2010-07-09 09:46:00</td>\n",
       "      <td>1.250000e+00</td>\n",
       "      <td>13975.000000</td>\n",
       "    </tr>\n",
       "    <tr>\n",
       "      <th>50%</th>\n",
       "      <td>3.000000e+00</td>\n",
       "      <td>2010-12-07 15:28:00</td>\n",
       "      <td>2.100000e+00</td>\n",
       "      <td>15255.000000</td>\n",
       "    </tr>\n",
       "    <tr>\n",
       "      <th>75%</th>\n",
       "      <td>1.000000e+01</td>\n",
       "      <td>2011-07-22 10:23:00</td>\n",
       "      <td>4.150000e+00</td>\n",
       "      <td>16797.000000</td>\n",
       "    </tr>\n",
       "    <tr>\n",
       "      <th>max</th>\n",
       "      <td>8.099500e+04</td>\n",
       "      <td>2011-12-09 12:50:00</td>\n",
       "      <td>3.897000e+04</td>\n",
       "      <td>18287.000000</td>\n",
       "    </tr>\n",
       "    <tr>\n",
       "      <th>std</th>\n",
       "      <td>1.727058e+02</td>\n",
       "      <td>NaN</td>\n",
       "      <td>1.235531e+02</td>\n",
       "      <td>1697.464450</td>\n",
       "    </tr>\n",
       "  </tbody>\n",
       "</table>\n",
       "</div>"
      ],
      "text/plain": [
       "           Quantity                    InvoiceDate         Price  \\\n",
       "count  1.067371e+06                        1067371  1.067371e+06   \n",
       "mean   9.938898e+00  2011-01-02 21:13:55.394028544  4.649388e+00   \n",
       "min   -8.099500e+04            2009-12-01 07:45:00 -5.359436e+04   \n",
       "25%    1.000000e+00            2010-07-09 09:46:00  1.250000e+00   \n",
       "50%    3.000000e+00            2010-12-07 15:28:00  2.100000e+00   \n",
       "75%    1.000000e+01            2011-07-22 10:23:00  4.150000e+00   \n",
       "max    8.099500e+04            2011-12-09 12:50:00  3.897000e+04   \n",
       "std    1.727058e+02                            NaN  1.235531e+02   \n",
       "\n",
       "         Customer ID  \n",
       "count  824364.000000  \n",
       "mean    15324.638504  \n",
       "min     12346.000000  \n",
       "25%     13975.000000  \n",
       "50%     15255.000000  \n",
       "75%     16797.000000  \n",
       "max     18287.000000  \n",
       "std      1697.464450  "
      ]
     },
     "execution_count": 12,
     "metadata": {},
     "output_type": "execute_result"
    }
   ],
   "source": [
    "# generate descriptive statistics for numeric columns\n",
    "df.describe()"
   ]
  },
  {
   "cell_type": "code",
   "execution_count": 13,
   "id": "55d37157-c856-4fea-95f0-a437cefaf1ff",
   "metadata": {},
   "outputs": [
    {
     "data": {
      "text/html": [
       "<div>\n",
       "<style scoped>\n",
       "    .dataframe tbody tr th:only-of-type {\n",
       "        vertical-align: middle;\n",
       "    }\n",
       "\n",
       "    .dataframe tbody tr th {\n",
       "        vertical-align: top;\n",
       "    }\n",
       "\n",
       "    .dataframe thead th {\n",
       "        text-align: right;\n",
       "    }\n",
       "</style>\n",
       "<table border=\"1\" class=\"dataframe\">\n",
       "  <thead>\n",
       "    <tr style=\"text-align: right;\">\n",
       "      <th></th>\n",
       "      <th>Country</th>\n",
       "      <th>Customer ID</th>\n",
       "    </tr>\n",
       "  </thead>\n",
       "  <tbody>\n",
       "    <tr>\n",
       "      <th>0</th>\n",
       "      <td>United Kingdom</td>\n",
       "      <td>13085.0</td>\n",
       "    </tr>\n",
       "    <tr>\n",
       "      <th>12</th>\n",
       "      <td>United Kingdom</td>\n",
       "      <td>13078.0</td>\n",
       "    </tr>\n",
       "    <tr>\n",
       "      <th>31</th>\n",
       "      <td>United Kingdom</td>\n",
       "      <td>15362.0</td>\n",
       "    </tr>\n",
       "    <tr>\n",
       "      <th>54</th>\n",
       "      <td>United Kingdom</td>\n",
       "      <td>18102.0</td>\n",
       "    </tr>\n",
       "    <tr>\n",
       "      <th>71</th>\n",
       "      <td>France</td>\n",
       "      <td>12682.0</td>\n",
       "    </tr>\n",
       "  </tbody>\n",
       "</table>\n",
       "</div>"
      ],
      "text/plain": [
       "           Country  Customer ID\n",
       "0   United Kingdom      13085.0\n",
       "12  United Kingdom      13078.0\n",
       "31  United Kingdom      15362.0\n",
       "54  United Kingdom      18102.0\n",
       "71          France      12682.0"
      ]
     },
     "execution_count": 13,
     "metadata": {},
     "output_type": "execute_result"
    }
   ],
   "source": [
    "#Removing Duplicates\n",
    "filtered_data = df[['Country','Customer ID']].drop_duplicates()\n",
    "filtered_data.head()"
   ]
  },
  {
   "cell_type": "code",
   "execution_count": 14,
   "id": "7ad00480-e859-4971-997a-89594c0e85d4",
   "metadata": {},
   "outputs": [
    {
     "data": {
      "text/plain": [
       "(5970, 2)"
      ]
     },
     "execution_count": 14,
     "metadata": {},
     "output_type": "execute_result"
    }
   ],
   "source": [
    "# filtered data shape i.e rows and columns\n",
    "filtered_data.shape"
   ]
  },
  {
   "cell_type": "code",
   "execution_count": 15,
   "id": "dd750067-8955-42d7-a5ee-a70921d95cdb",
   "metadata": {},
   "outputs": [
    {
     "data": {
      "text/plain": [
       "<Axes: xlabel='Country'>"
      ]
     },
     "execution_count": 15,
     "metadata": {},
     "output_type": "execute_result"
    },
    {
     "data": {
      "image/png": "[encoded data removed]",
      "text/plain": [
       "<Figure size 640x480 with 1 Axes>"
      ]
     },
     "metadata": {},
     "output_type": "display_data"
    }
   ],
   "source": [
    "# making the bar graph according to country value counts\n",
    "filtered_data.Country.value_counts()[:12].plot(kind='bar')"
   ]
  },
  {
   "cell_type": "code",
   "execution_count": 16,
   "id": "6245f6ed-8f54-4ef6-af5e-66f62abd4c4d",
   "metadata": {},
   "outputs": [
    {
     "name": "stdout",
     "output_type": "stream",
     "text": [
      "<class 'pandas.core.frame.DataFrame'>\n",
      "Index: 981330 entries, 0 to 1067354\n",
      "Data columns (total 8 columns):\n",
      " #   Column       Non-Null Count   Dtype         \n",
      "---  ------       --------------   -----         \n",
      " 0   Invoice      981330 non-null  object        \n",
      " 1   StockCode    981330 non-null  object        \n",
      " 2   Description  976948 non-null  object        \n",
      " 3   Quantity     981330 non-null  int64         \n",
      " 4   InvoiceDate  981330 non-null  datetime64[ns]\n",
      " 5   Price        981330 non-null  float64       \n",
      " 6   Customer ID  741301 non-null  float64       \n",
      " 7   Country      981330 non-null  object        \n",
      "dtypes: datetime64[ns](1), float64(2), int64(1), object(4)\n",
      "memory usage: 67.4+ MB\n"
     ]
    }
   ],
   "source": [
    "uk_data = df[df.Country == 'United Kingdom']\n",
    "uk_data.info()"
   ]
  },
  {
   "cell_type": "code",
   "execution_count": 17,
   "id": "ceb1acee-2ea0-4f26-8443-3b163ae5f66b",
   "metadata": {},
   "outputs": [
    {
     "data": {
      "text/html": [
       "<div>\n",
       "<style scoped>\n",
       "    .dataframe tbody tr th:only-of-type {\n",
       "        vertical-align: middle;\n",
       "    }\n",
       "\n",
       "    .dataframe tbody tr th {\n",
       "        vertical-align: top;\n",
       "    }\n",
       "\n",
       "    .dataframe thead th {\n",
       "        text-align: right;\n",
       "    }\n",
       "</style>\n",
       "<table border=\"1\" class=\"dataframe\">\n",
       "  <thead>\n",
       "    <tr style=\"text-align: right;\">\n",
       "      <th></th>\n",
       "      <th>Quantity</th>\n",
       "      <th>InvoiceDate</th>\n",
       "      <th>Price</th>\n",
       "      <th>Customer ID</th>\n",
       "    </tr>\n",
       "  </thead>\n",
       "  <tbody>\n",
       "    <tr>\n",
       "      <th>count</th>\n",
       "      <td>981330.000000</td>\n",
       "      <td>981330</td>\n",
       "      <td>981330.000000</td>\n",
       "      <td>741301.000000</td>\n",
       "    </tr>\n",
       "    <tr>\n",
       "      <th>mean</th>\n",
       "      <td>8.858259</td>\n",
       "      <td>2011-01-01 09:04:09.776283136</td>\n",
       "      <td>4.537892</td>\n",
       "      <td>15554.046300</td>\n",
       "    </tr>\n",
       "    <tr>\n",
       "      <th>min</th>\n",
       "      <td>-80995.000000</td>\n",
       "      <td>2009-12-01 07:45:00</td>\n",
       "      <td>-53594.360000</td>\n",
       "      <td>12346.000000</td>\n",
       "    </tr>\n",
       "    <tr>\n",
       "      <th>25%</th>\n",
       "      <td>1.000000</td>\n",
       "      <td>2010-07-07 11:25:00</td>\n",
       "      <td>1.250000</td>\n",
       "      <td>14203.000000</td>\n",
       "    </tr>\n",
       "    <tr>\n",
       "      <th>50%</th>\n",
       "      <td>3.000000</td>\n",
       "      <td>2010-12-06 16:57:00</td>\n",
       "      <td>2.100000</td>\n",
       "      <td>15551.000000</td>\n",
       "    </tr>\n",
       "    <tr>\n",
       "      <th>75%</th>\n",
       "      <td>10.000000</td>\n",
       "      <td>2011-07-20 16:17:00</td>\n",
       "      <td>4.150000</td>\n",
       "      <td>16936.000000</td>\n",
       "    </tr>\n",
       "    <tr>\n",
       "      <th>max</th>\n",
       "      <td>80995.000000</td>\n",
       "      <td>2011-12-09 12:49:00</td>\n",
       "      <td>38970.000000</td>\n",
       "      <td>18287.000000</td>\n",
       "    </tr>\n",
       "    <tr>\n",
       "      <th>std</th>\n",
       "      <td>172.638944</td>\n",
       "      <td>NaN</td>\n",
       "      <td>126.743401</td>\n",
       "      <td>1594.076188</td>\n",
       "    </tr>\n",
       "  </tbody>\n",
       "</table>\n",
       "</div>"
      ],
      "text/plain": [
       "            Quantity                    InvoiceDate          Price  \\\n",
       "count  981330.000000                         981330  981330.000000   \n",
       "mean        8.858259  2011-01-01 09:04:09.776283136       4.537892   \n",
       "min    -80995.000000            2009-12-01 07:45:00  -53594.360000   \n",
       "25%         1.000000            2010-07-07 11:25:00       1.250000   \n",
       "50%         3.000000            2010-12-06 16:57:00       2.100000   \n",
       "75%        10.000000            2011-07-20 16:17:00       4.150000   \n",
       "max     80995.000000            2011-12-09 12:49:00   38970.000000   \n",
       "std       172.638944                            NaN     126.743401   \n",
       "\n",
       "         Customer ID  \n",
       "count  741301.000000  \n",
       "mean    15554.046300  \n",
       "min     12346.000000  \n",
       "25%     14203.000000  \n",
       "50%     15551.000000  \n",
       "75%     16936.000000  \n",
       "max     18287.000000  \n",
       "std      1594.076188  "
      ]
     },
     "execution_count": 17,
     "metadata": {},
     "output_type": "execute_result"
    }
   ],
   "source": [
    "uk_data.describe()"
   ]
  },
  {
   "cell_type": "code",
   "execution_count": 18,
   "id": "43751774-9051-48ff-bc4d-4594892480c9",
   "metadata": {},
   "outputs": [
    {
     "name": "stdout",
     "output_type": "stream",
     "text": [
      "<class 'pandas.core.frame.DataFrame'>\n",
      "Index: 961224 entries, 0 to 1067354\n",
      "Data columns (total 8 columns):\n",
      " #   Column       Non-Null Count   Dtype         \n",
      "---  ------       --------------   -----         \n",
      " 0   Invoice      961224 non-null  object        \n",
      " 1   StockCode    961224 non-null  object        \n",
      " 2   Description  959531 non-null  object        \n",
      " 3   Quantity     961224 non-null  int64         \n",
      " 4   InvoiceDate  961224 non-null  datetime64[ns]\n",
      " 5   Price        961224 non-null  float64       \n",
      " 6   Customer ID  725296 non-null  float64       \n",
      " 7   Country      961224 non-null  object        \n",
      "dtypes: datetime64[ns](1), float64(2), int64(1), object(4)\n",
      "memory usage: 66.0+ MB\n"
     ]
    }
   ],
   "source": [
    "#filtering quantities which are greater than zero\n",
    "uk_data = uk_data[uk_data.Quantity > 0]\n",
    "uk_data.info()"
   ]
  },
  {
   "cell_type": "code",
   "execution_count": 19,
   "id": "6b3e4248-5bd7-42eb-96bd-eeaa421b2e93",
   "metadata": {},
   "outputs": [],
   "source": [
    "uk_data = uk_data[['Customer ID','InvoiceDate','Invoice','Quantity','Price']]"
   ]
  },
  {
   "cell_type": "code",
   "execution_count": 20,
   "id": "9b56a714-1d12-4ee2-a7d6-227fabf9b217",
   "metadata": {},
   "outputs": [
    {
     "data": {
      "text/html": [
       "<div>\n",
       "<style scoped>\n",
       "    .dataframe tbody tr th:only-of-type {\n",
       "        vertical-align: middle;\n",
       "    }\n",
       "\n",
       "    .dataframe tbody tr th {\n",
       "        vertical-align: top;\n",
       "    }\n",
       "\n",
       "    .dataframe thead th {\n",
       "        text-align: right;\n",
       "    }\n",
       "</style>\n",
       "<table border=\"1\" class=\"dataframe\">\n",
       "  <thead>\n",
       "    <tr style=\"text-align: right;\">\n",
       "      <th></th>\n",
       "      <th>Customer ID</th>\n",
       "      <th>InvoiceDate</th>\n",
       "      <th>Invoice</th>\n",
       "      <th>Quantity</th>\n",
       "      <th>Price</th>\n",
       "      <th>TotalPurchase</th>\n",
       "    </tr>\n",
       "  </thead>\n",
       "  <tbody>\n",
       "    <tr>\n",
       "      <th>0</th>\n",
       "      <td>13085.0</td>\n",
       "      <td>2009-12-01 07:45:00</td>\n",
       "      <td>489434</td>\n",
       "      <td>12</td>\n",
       "      <td>6.95</td>\n",
       "      <td>83.4</td>\n",
       "    </tr>\n",
       "    <tr>\n",
       "      <th>1</th>\n",
       "      <td>13085.0</td>\n",
       "      <td>2009-12-01 07:45:00</td>\n",
       "      <td>489434</td>\n",
       "      <td>12</td>\n",
       "      <td>6.75</td>\n",
       "      <td>81.0</td>\n",
       "    </tr>\n",
       "    <tr>\n",
       "      <th>2</th>\n",
       "      <td>13085.0</td>\n",
       "      <td>2009-12-01 07:45:00</td>\n",
       "      <td>489434</td>\n",
       "      <td>12</td>\n",
       "      <td>6.75</td>\n",
       "      <td>81.0</td>\n",
       "    </tr>\n",
       "    <tr>\n",
       "      <th>3</th>\n",
       "      <td>13085.0</td>\n",
       "      <td>2009-12-01 07:45:00</td>\n",
       "      <td>489434</td>\n",
       "      <td>48</td>\n",
       "      <td>2.10</td>\n",
       "      <td>100.8</td>\n",
       "    </tr>\n",
       "    <tr>\n",
       "      <th>4</th>\n",
       "      <td>13085.0</td>\n",
       "      <td>2009-12-01 07:45:00</td>\n",
       "      <td>489434</td>\n",
       "      <td>24</td>\n",
       "      <td>1.25</td>\n",
       "      <td>30.0</td>\n",
       "    </tr>\n",
       "  </tbody>\n",
       "</table>\n",
       "</div>"
      ],
      "text/plain": [
       "   Customer ID         InvoiceDate Invoice  Quantity  Price  TotalPurchase\n",
       "0      13085.0 2009-12-01 07:45:00  489434        12   6.95           83.4\n",
       "1      13085.0 2009-12-01 07:45:00  489434        12   6.75           81.0\n",
       "2      13085.0 2009-12-01 07:45:00  489434        12   6.75           81.0\n",
       "3      13085.0 2009-12-01 07:45:00  489434        48   2.10          100.8\n",
       "4      13085.0 2009-12-01 07:45:00  489434        24   1.25           30.0"
      ]
     },
     "execution_count": 20,
     "metadata": {},
     "output_type": "execute_result"
    }
   ],
   "source": [
    "#Total Purchase\n",
    "uk_data['TotalPurchase'] = uk_data['Quantity'] * uk_data['Price']\n",
    "uk_data.head()"
   ]
  },
  {
   "cell_type": "code",
   "execution_count": 21,
   "id": "738fe658-8e95-4985-bf21-b1d4a0990aa5",
   "metadata": {},
   "outputs": [],
   "source": [
    "uk_data_group = uk_data.groupby('Customer ID').agg({'InvoiceDate': lambda date:(date.max() - date.min()).days,\n",
    "                                                    'Invoice': lambda num : len(num),\n",
    "                                                    'Quantity': lambda quant : quant.sum(),\n",
    "                                                    'TotalPurchase': lambda price : price.sum()})"
   ]
  },
  {
   "cell_type": "code",
   "execution_count": 22,
   "id": "8ef36512-b8e9-4769-824b-43ce0bc195c3",
   "metadata": {},
   "outputs": [
    {
     "data": {
      "text/html": [
       "<div>\n",
       "<style scoped>\n",
       "    .dataframe tbody tr th:only-of-type {\n",
       "        vertical-align: middle;\n",
       "    }\n",
       "\n",
       "    .dataframe tbody tr th {\n",
       "        vertical-align: top;\n",
       "    }\n",
       "\n",
       "    .dataframe thead th {\n",
       "        text-align: right;\n",
       "    }\n",
       "</style>\n",
       "<table border=\"1\" class=\"dataframe\">\n",
       "  <thead>\n",
       "    <tr style=\"text-align: right;\">\n",
       "      <th></th>\n",
       "      <th>InvoiceDate</th>\n",
       "      <th>Invoice</th>\n",
       "      <th>Quantity</th>\n",
       "      <th>TotalPurchase</th>\n",
       "    </tr>\n",
       "    <tr>\n",
       "      <th>Customer ID</th>\n",
       "      <th></th>\n",
       "      <th></th>\n",
       "      <th></th>\n",
       "      <th></th>\n",
       "    </tr>\n",
       "  </thead>\n",
       "  <tbody>\n",
       "    <tr>\n",
       "      <th>12346.0</th>\n",
       "      <td>400</td>\n",
       "      <td>34</td>\n",
       "      <td>74285</td>\n",
       "      <td>77556.46</td>\n",
       "    </tr>\n",
       "    <tr>\n",
       "      <th>12608.0</th>\n",
       "      <td>0</td>\n",
       "      <td>16</td>\n",
       "      <td>323</td>\n",
       "      <td>415.79</td>\n",
       "    </tr>\n",
       "    <tr>\n",
       "      <th>12745.0</th>\n",
       "      <td>87</td>\n",
       "      <td>22</td>\n",
       "      <td>467</td>\n",
       "      <td>723.85</td>\n",
       "    </tr>\n",
       "    <tr>\n",
       "      <th>12746.0</th>\n",
       "      <td>0</td>\n",
       "      <td>17</td>\n",
       "      <td>97</td>\n",
       "      <td>254.55</td>\n",
       "    </tr>\n",
       "    <tr>\n",
       "      <th>12747.0</th>\n",
       "      <td>730</td>\n",
       "      <td>257</td>\n",
       "      <td>2758</td>\n",
       "      <td>9276.54</td>\n",
       "    </tr>\n",
       "  </tbody>\n",
       "</table>\n",
       "</div>"
      ],
      "text/plain": [
       "             InvoiceDate  Invoice  Quantity  TotalPurchase\n",
       "Customer ID                                               \n",
       "12346.0              400       34     74285       77556.46\n",
       "12608.0                0       16       323         415.79\n",
       "12745.0               87       22       467         723.85\n",
       "12746.0                0       17        97         254.55\n",
       "12747.0              730      257      2758        9276.54"
      ]
     },
     "execution_count": 22,
     "metadata": {},
     "output_type": "execute_result"
    }
   ],
   "source": [
    "uk_data_group.head()"
   ]
  },
  {
   "cell_type": "code",
   "execution_count": 23,
   "id": "d64e467e-eae1-4a7a-97b8-6e9f15361f80",
   "metadata": {},
   "outputs": [
    {
     "data": {
      "text/html": [
       "<div>\n",
       "<style scoped>\n",
       "    .dataframe tbody tr th:only-of-type {\n",
       "        vertical-align: middle;\n",
       "    }\n",
       "\n",
       "    .dataframe tbody tr th {\n",
       "        vertical-align: top;\n",
       "    }\n",
       "\n",
       "    .dataframe thead th {\n",
       "        text-align: right;\n",
       "    }\n",
       "</style>\n",
       "<table border=\"1\" class=\"dataframe\">\n",
       "  <thead>\n",
       "    <tr style=\"text-align: right;\">\n",
       "      <th></th>\n",
       "      <th>num_days</th>\n",
       "      <th>num_transactions</th>\n",
       "      <th>num_units</th>\n",
       "      <th>spent_money</th>\n",
       "    </tr>\n",
       "    <tr>\n",
       "      <th>Customer ID</th>\n",
       "      <th></th>\n",
       "      <th></th>\n",
       "      <th></th>\n",
       "      <th></th>\n",
       "    </tr>\n",
       "  </thead>\n",
       "  <tbody>\n",
       "    <tr>\n",
       "      <th>12346.0</th>\n",
       "      <td>400</td>\n",
       "      <td>34</td>\n",
       "      <td>74285</td>\n",
       "      <td>77556.46</td>\n",
       "    </tr>\n",
       "    <tr>\n",
       "      <th>12608.0</th>\n",
       "      <td>0</td>\n",
       "      <td>16</td>\n",
       "      <td>323</td>\n",
       "      <td>415.79</td>\n",
       "    </tr>\n",
       "    <tr>\n",
       "      <th>12745.0</th>\n",
       "      <td>87</td>\n",
       "      <td>22</td>\n",
       "      <td>467</td>\n",
       "      <td>723.85</td>\n",
       "    </tr>\n",
       "    <tr>\n",
       "      <th>12746.0</th>\n",
       "      <td>0</td>\n",
       "      <td>17</td>\n",
       "      <td>97</td>\n",
       "      <td>254.55</td>\n",
       "    </tr>\n",
       "    <tr>\n",
       "      <th>12747.0</th>\n",
       "      <td>730</td>\n",
       "      <td>257</td>\n",
       "      <td>2758</td>\n",
       "      <td>9276.54</td>\n",
       "    </tr>\n",
       "  </tbody>\n",
       "</table>\n",
       "</div>"
      ],
      "text/plain": [
       "             num_days  num_transactions  num_units  spent_money\n",
       "Customer ID                                                    \n",
       "12346.0           400                34      74285     77556.46\n",
       "12608.0             0                16        323       415.79\n",
       "12745.0            87                22        467       723.85\n",
       "12746.0             0                17         97       254.55\n",
       "12747.0           730               257       2758      9276.54"
      ]
     },
     "execution_count": 23,
     "metadata": {},
     "output_type": "execute_result"
    }
   ],
   "source": [
    "uk_data_group.columns = ['num_days','num_transactions','num_units','spent_money']\n",
    "uk_data_group.head()"
   ]
  },
  {
   "cell_type": "code",
   "execution_count": 24,
   "id": "05e08888-2fec-4a03-ab1c-7904e803b5fe",
   "metadata": {},
   "outputs": [
    {
     "data": {
      "text/html": [
       "<div>\n",
       "<style scoped>\n",
       "    .dataframe tbody tr th:only-of-type {\n",
       "        vertical-align: middle;\n",
       "    }\n",
       "\n",
       "    .dataframe tbody tr th {\n",
       "        vertical-align: top;\n",
       "    }\n",
       "\n",
       "    .dataframe thead th {\n",
       "        text-align: right;\n",
       "    }\n",
       "</style>\n",
       "<table border=\"1\" class=\"dataframe\">\n",
       "  <thead>\n",
       "    <tr style=\"text-align: right;\">\n",
       "      <th></th>\n",
       "      <th>num_days</th>\n",
       "      <th>num_transactions</th>\n",
       "      <th>num_units</th>\n",
       "      <th>spent_money</th>\n",
       "      <th>Ave_order_value</th>\n",
       "    </tr>\n",
       "    <tr>\n",
       "      <th>Customer ID</th>\n",
       "      <th></th>\n",
       "      <th></th>\n",
       "      <th></th>\n",
       "      <th></th>\n",
       "      <th></th>\n",
       "    </tr>\n",
       "  </thead>\n",
       "  <tbody>\n",
       "    <tr>\n",
       "      <th>12346.0</th>\n",
       "      <td>400</td>\n",
       "      <td>34</td>\n",
       "      <td>74285</td>\n",
       "      <td>77556.46</td>\n",
       "      <td>2281.072353</td>\n",
       "    </tr>\n",
       "    <tr>\n",
       "      <th>12608.0</th>\n",
       "      <td>0</td>\n",
       "      <td>16</td>\n",
       "      <td>323</td>\n",
       "      <td>415.79</td>\n",
       "      <td>25.986875</td>\n",
       "    </tr>\n",
       "    <tr>\n",
       "      <th>12745.0</th>\n",
       "      <td>87</td>\n",
       "      <td>22</td>\n",
       "      <td>467</td>\n",
       "      <td>723.85</td>\n",
       "      <td>32.902273</td>\n",
       "    </tr>\n",
       "    <tr>\n",
       "      <th>12746.0</th>\n",
       "      <td>0</td>\n",
       "      <td>17</td>\n",
       "      <td>97</td>\n",
       "      <td>254.55</td>\n",
       "      <td>14.973529</td>\n",
       "    </tr>\n",
       "    <tr>\n",
       "      <th>12747.0</th>\n",
       "      <td>730</td>\n",
       "      <td>257</td>\n",
       "      <td>2758</td>\n",
       "      <td>9276.54</td>\n",
       "      <td>36.095486</td>\n",
       "    </tr>\n",
       "  </tbody>\n",
       "</table>\n",
       "</div>"
      ],
      "text/plain": [
       "             num_days  num_transactions  num_units  spent_money  \\\n",
       "Customer ID                                                       \n",
       "12346.0           400                34      74285     77556.46   \n",
       "12608.0             0                16        323       415.79   \n",
       "12745.0            87                22        467       723.85   \n",
       "12746.0             0                17         97       254.55   \n",
       "12747.0           730               257       2758      9276.54   \n",
       "\n",
       "             Ave_order_value  \n",
       "Customer ID                   \n",
       "12346.0          2281.072353  \n",
       "12608.0            25.986875  \n",
       "12745.0            32.902273  \n",
       "12746.0            14.973529  \n",
       "12747.0            36.095486  "
      ]
     },
     "execution_count": 24,
     "metadata": {},
     "output_type": "execute_result"
    }
   ],
   "source": [
    "#Calculate Ave. Order Value\n",
    "uk_data_group['Ave_order_value'] = uk_data_group['spent_money']/uk_data_group['num_transactions']\n",
    "uk_data_group.head()"
   ]
  },
  {
   "cell_type": "code",
   "execution_count": 25,
   "id": "6d67e821-7d2c-4dff-b6c7-e87c1d2dd6e4",
   "metadata": {},
   "outputs": [
    {
     "data": {
      "text/html": [
       "<div>\n",
       "<style scoped>\n",
       "    .dataframe tbody tr th:only-of-type {\n",
       "        vertical-align: middle;\n",
       "    }\n",
       "\n",
       "    .dataframe tbody tr th {\n",
       "        vertical-align: top;\n",
       "    }\n",
       "\n",
       "    .dataframe thead th {\n",
       "        text-align: right;\n",
       "    }\n",
       "</style>\n",
       "<table border=\"1\" class=\"dataframe\">\n",
       "  <thead>\n",
       "    <tr style=\"text-align: right;\">\n",
       "      <th></th>\n",
       "      <th>num_days</th>\n",
       "      <th>num_transactions</th>\n",
       "      <th>num_units</th>\n",
       "      <th>spent_money</th>\n",
       "      <th>Ave_order_value</th>\n",
       "    </tr>\n",
       "    <tr>\n",
       "      <th>Customer ID</th>\n",
       "      <th></th>\n",
       "      <th></th>\n",
       "      <th></th>\n",
       "      <th></th>\n",
       "      <th></th>\n",
       "    </tr>\n",
       "  </thead>\n",
       "  <tbody>\n",
       "    <tr>\n",
       "      <th>12346.0</th>\n",
       "      <td>400</td>\n",
       "      <td>34</td>\n",
       "      <td>74285</td>\n",
       "      <td>77556.46</td>\n",
       "      <td>2281.072353</td>\n",
       "    </tr>\n",
       "    <tr>\n",
       "      <th>12608.0</th>\n",
       "      <td>0</td>\n",
       "      <td>16</td>\n",
       "      <td>323</td>\n",
       "      <td>415.79</td>\n",
       "      <td>25.986875</td>\n",
       "    </tr>\n",
       "    <tr>\n",
       "      <th>12745.0</th>\n",
       "      <td>87</td>\n",
       "      <td>22</td>\n",
       "      <td>467</td>\n",
       "      <td>723.85</td>\n",
       "      <td>32.902273</td>\n",
       "    </tr>\n",
       "    <tr>\n",
       "      <th>12746.0</th>\n",
       "      <td>0</td>\n",
       "      <td>17</td>\n",
       "      <td>97</td>\n",
       "      <td>254.55</td>\n",
       "      <td>14.973529</td>\n",
       "    </tr>\n",
       "    <tr>\n",
       "      <th>12747.0</th>\n",
       "      <td>730</td>\n",
       "      <td>257</td>\n",
       "      <td>2758</td>\n",
       "      <td>9276.54</td>\n",
       "      <td>36.095486</td>\n",
       "    </tr>\n",
       "  </tbody>\n",
       "</table>\n",
       "</div>"
      ],
      "text/plain": [
       "             num_days  num_transactions  num_units  spent_money  \\\n",
       "Customer ID                                                       \n",
       "12346.0           400                34      74285     77556.46   \n",
       "12608.0             0                16        323       415.79   \n",
       "12745.0            87                22        467       723.85   \n",
       "12746.0             0                17         97       254.55   \n",
       "12747.0           730               257       2758      9276.54   \n",
       "\n",
       "             Ave_order_value  \n",
       "Customer ID                   \n",
       "12346.0          2281.072353  \n",
       "12608.0            25.986875  \n",
       "12745.0            32.902273  \n",
       "12746.0            14.973529  \n",
       "12747.0            36.095486  "
      ]
     },
     "execution_count": 25,
     "metadata": {},
     "output_type": "execute_result"
    }
   ],
   "source": [
    "#calculate Purchase Frequeny\n",
    "purchase_frequency  = sum(uk_data_group['num_transactions'])/uk_data_group.shape[0]\n",
    "uk_data_group.head()"
   ]
  },
  {
   "cell_type": "code",
   "execution_count": 26,
   "id": "238d0ab4-738b-4a63-9eb9-7892e4b680d7",
   "metadata": {},
   "outputs": [
    {
     "data": {
      "text/plain": [
       "135.493368204745"
      ]
     },
     "execution_count": 26,
     "metadata": {},
     "output_type": "execute_result"
    }
   ],
   "source": [
    "purchase_frequency"
   ]
  },
  {
   "cell_type": "code",
   "execution_count": 27,
   "id": "9246059d-c55b-45fc-a211-5705c4c12109",
   "metadata": {},
   "outputs": [
    {
     "data": {
      "text/plain": [
       "0.9803848309359238"
      ]
     },
     "execution_count": 27,
     "metadata": {},
     "output_type": "execute_result"
    }
   ],
   "source": [
    "#calculate Repeat Rate\n",
    "repeat_rate = uk_data_group[uk_data_group['num_transactions'] > 1].shape[0]/uk_data_group.shape[0]\n",
    "repeat_rate"
   ]
  },
  {
   "cell_type": "code",
   "execution_count": 28,
   "id": "aaeaa950-000a-43c4-8ea6-b5e6cddbcfe5",
   "metadata": {},
   "outputs": [
    {
     "data": {
      "text/plain": [
       "0.019615169064076232"
      ]
     },
     "execution_count": 28,
     "metadata": {},
     "output_type": "execute_result"
    }
   ],
   "source": [
    "#Churn Rate\n",
    "churn_rate = 1 - repeat_rate\n",
    "churn_rate"
   ]
  },
  {
   "cell_type": "code",
   "execution_count": 29,
   "id": "9efd9136-6fcc-4596-bc71-6b378ca991bc",
   "metadata": {},
   "outputs": [
    {
     "data": {
      "text/html": [
       "<div>\n",
       "<style scoped>\n",
       "    .dataframe tbody tr th:only-of-type {\n",
       "        vertical-align: middle;\n",
       "    }\n",
       "\n",
       "    .dataframe tbody tr th {\n",
       "        vertical-align: top;\n",
       "    }\n",
       "\n",
       "    .dataframe thead th {\n",
       "        text-align: right;\n",
       "    }\n",
       "</style>\n",
       "<table border=\"1\" class=\"dataframe\">\n",
       "  <thead>\n",
       "    <tr style=\"text-align: right;\">\n",
       "      <th></th>\n",
       "      <th>num_days</th>\n",
       "      <th>num_transactions</th>\n",
       "      <th>num_units</th>\n",
       "      <th>spent_money</th>\n",
       "      <th>Ave_order_value</th>\n",
       "      <th>profit_margin</th>\n",
       "    </tr>\n",
       "    <tr>\n",
       "      <th>Customer ID</th>\n",
       "      <th></th>\n",
       "      <th></th>\n",
       "      <th></th>\n",
       "      <th></th>\n",
       "      <th></th>\n",
       "      <th></th>\n",
       "    </tr>\n",
       "  </thead>\n",
       "  <tbody>\n",
       "    <tr>\n",
       "      <th>12346.0</th>\n",
       "      <td>400</td>\n",
       "      <td>34</td>\n",
       "      <td>74285</td>\n",
       "      <td>77556.46</td>\n",
       "      <td>2281.072353</td>\n",
       "      <td>3877.8230</td>\n",
       "    </tr>\n",
       "    <tr>\n",
       "      <th>12608.0</th>\n",
       "      <td>0</td>\n",
       "      <td>16</td>\n",
       "      <td>323</td>\n",
       "      <td>415.79</td>\n",
       "      <td>25.986875</td>\n",
       "      <td>20.7895</td>\n",
       "    </tr>\n",
       "    <tr>\n",
       "      <th>12745.0</th>\n",
       "      <td>87</td>\n",
       "      <td>22</td>\n",
       "      <td>467</td>\n",
       "      <td>723.85</td>\n",
       "      <td>32.902273</td>\n",
       "      <td>36.1925</td>\n",
       "    </tr>\n",
       "    <tr>\n",
       "      <th>12746.0</th>\n",
       "      <td>0</td>\n",
       "      <td>17</td>\n",
       "      <td>97</td>\n",
       "      <td>254.55</td>\n",
       "      <td>14.973529</td>\n",
       "      <td>12.7275</td>\n",
       "    </tr>\n",
       "    <tr>\n",
       "      <th>12747.0</th>\n",
       "      <td>730</td>\n",
       "      <td>257</td>\n",
       "      <td>2758</td>\n",
       "      <td>9276.54</td>\n",
       "      <td>36.095486</td>\n",
       "      <td>463.8270</td>\n",
       "    </tr>\n",
       "  </tbody>\n",
       "</table>\n",
       "</div>"
      ],
      "text/plain": [
       "             num_days  num_transactions  num_units  spent_money  \\\n",
       "Customer ID                                                       \n",
       "12346.0           400                34      74285     77556.46   \n",
       "12608.0             0                16        323       415.79   \n",
       "12745.0            87                22        467       723.85   \n",
       "12746.0             0                17         97       254.55   \n",
       "12747.0           730               257       2758      9276.54   \n",
       "\n",
       "             Ave_order_value  profit_margin  \n",
       "Customer ID                                  \n",
       "12346.0          2281.072353      3877.8230  \n",
       "12608.0            25.986875        20.7895  \n",
       "12745.0            32.902273        36.1925  \n",
       "12746.0            14.973529        12.7275  \n",
       "12747.0            36.095486       463.8270  "
      ]
     },
     "execution_count": 29,
     "metadata": {},
     "output_type": "execute_result"
    }
   ],
   "source": [
    "#Profit Margin\n",
    "uk_data_group['profit_margin'] = uk_data_group['spent_money']*0.05\n",
    "uk_data_group.head()"
   ]
  },
  {
   "cell_type": "code",
   "execution_count": 30,
   "id": "8690d540-21cb-4364-8ad2-4efc2934bc58",
   "metadata": {},
   "outputs": [
    {
     "data": {
      "text/html": [
       "<div>\n",
       "<style scoped>\n",
       "    .dataframe tbody tr th:only-of-type {\n",
       "        vertical-align: middle;\n",
       "    }\n",
       "\n",
       "    .dataframe tbody tr th {\n",
       "        vertical-align: top;\n",
       "    }\n",
       "\n",
       "    .dataframe thead th {\n",
       "        text-align: right;\n",
       "    }\n",
       "</style>\n",
       "<table border=\"1\" class=\"dataframe\">\n",
       "  <thead>\n",
       "    <tr style=\"text-align: right;\">\n",
       "      <th></th>\n",
       "      <th>num_days</th>\n",
       "      <th>num_transactions</th>\n",
       "      <th>num_units</th>\n",
       "      <th>spent_money</th>\n",
       "      <th>Ave_order_value</th>\n",
       "      <th>profit_margin</th>\n",
       "      <th>CLV</th>\n",
       "    </tr>\n",
       "    <tr>\n",
       "      <th>Customer ID</th>\n",
       "      <th></th>\n",
       "      <th></th>\n",
       "      <th></th>\n",
       "      <th></th>\n",
       "      <th></th>\n",
       "      <th></th>\n",
       "      <th></th>\n",
       "    </tr>\n",
       "  </thead>\n",
       "  <tbody>\n",
       "    <tr>\n",
       "      <th>12346.0</th>\n",
       "      <td>400</td>\n",
       "      <td>34</td>\n",
       "      <td>74285</td>\n",
       "      <td>77556.46</td>\n",
       "      <td>2281.072353</td>\n",
       "      <td>3877.8230</td>\n",
       "      <td>1.575669e+07</td>\n",
       "    </tr>\n",
       "    <tr>\n",
       "      <th>12608.0</th>\n",
       "      <td>0</td>\n",
       "      <td>16</td>\n",
       "      <td>323</td>\n",
       "      <td>415.79</td>\n",
       "      <td>25.986875</td>\n",
       "      <td>20.7895</td>\n",
       "      <td>1.795064e+05</td>\n",
       "    </tr>\n",
       "    <tr>\n",
       "      <th>12745.0</th>\n",
       "      <td>87</td>\n",
       "      <td>22</td>\n",
       "      <td>467</td>\n",
       "      <td>723.85</td>\n",
       "      <td>32.902273</td>\n",
       "      <td>36.1925</td>\n",
       "      <td>2.272751e+05</td>\n",
       "    </tr>\n",
       "    <tr>\n",
       "      <th>12746.0</th>\n",
       "      <td>0</td>\n",
       "      <td>17</td>\n",
       "      <td>97</td>\n",
       "      <td>254.55</td>\n",
       "      <td>14.973529</td>\n",
       "      <td>12.7275</td>\n",
       "      <td>1.034309e+05</td>\n",
       "    </tr>\n",
       "    <tr>\n",
       "      <th>12747.0</th>\n",
       "      <td>730</td>\n",
       "      <td>257</td>\n",
       "      <td>2758</td>\n",
       "      <td>9276.54</td>\n",
       "      <td>36.095486</td>\n",
       "      <td>463.8270</td>\n",
       "      <td>2.493325e+05</td>\n",
       "    </tr>\n",
       "  </tbody>\n",
       "</table>\n",
       "</div>"
      ],
      "text/plain": [
       "             num_days  num_transactions  num_units  spent_money  \\\n",
       "Customer ID                                                       \n",
       "12346.0           400                34      74285     77556.46   \n",
       "12608.0             0                16        323       415.79   \n",
       "12745.0            87                22        467       723.85   \n",
       "12746.0             0                17         97       254.55   \n",
       "12747.0           730               257       2758      9276.54   \n",
       "\n",
       "             Ave_order_value  profit_margin           CLV  \n",
       "Customer ID                                                \n",
       "12346.0          2281.072353      3877.8230  1.575669e+07  \n",
       "12608.0            25.986875        20.7895  1.795064e+05  \n",
       "12745.0            32.902273        36.1925  2.272751e+05  \n",
       "12746.0            14.973529        12.7275  1.034309e+05  \n",
       "12747.0            36.095486       463.8270  2.493325e+05  "
      ]
     },
     "execution_count": 30,
     "metadata": {},
     "output_type": "execute_result"
    }
   ],
   "source": [
    "#Customer Value\n",
    "uk_data_group['CLV'] = (uk_data_group['Ave_order_value'] * purchase_frequency)/churn_rate\n",
    "uk_data_group.head()"
   ]
  },
  {
   "cell_type": "code",
   "execution_count": 31,
   "id": "14ed77a5-f0a3-4589-b34c-81df76e4c356",
   "metadata": {},
   "outputs": [
    {
     "data": {
      "text/html": [
       "<div>\n",
       "<style scoped>\n",
       "    .dataframe tbody tr th:only-of-type {\n",
       "        vertical-align: middle;\n",
       "    }\n",
       "\n",
       "    .dataframe tbody tr th {\n",
       "        vertical-align: top;\n",
       "    }\n",
       "\n",
       "    .dataframe thead th {\n",
       "        text-align: right;\n",
       "    }\n",
       "</style>\n",
       "<table border=\"1\" class=\"dataframe\">\n",
       "  <thead>\n",
       "    <tr style=\"text-align: right;\">\n",
       "      <th></th>\n",
       "      <th>num_days</th>\n",
       "      <th>num_transactions</th>\n",
       "      <th>num_units</th>\n",
       "      <th>spent_money</th>\n",
       "      <th>Ave_order_value</th>\n",
       "      <th>profit_margin</th>\n",
       "      <th>CLV</th>\n",
       "      <th>cust_lifetime_value</th>\n",
       "    </tr>\n",
       "    <tr>\n",
       "      <th>Customer ID</th>\n",
       "      <th></th>\n",
       "      <th></th>\n",
       "      <th></th>\n",
       "      <th></th>\n",
       "      <th></th>\n",
       "      <th></th>\n",
       "      <th></th>\n",
       "      <th></th>\n",
       "    </tr>\n",
       "  </thead>\n",
       "  <tbody>\n",
       "    <tr>\n",
       "      <th>12346.0</th>\n",
       "      <td>400</td>\n",
       "      <td>34</td>\n",
       "      <td>74285</td>\n",
       "      <td>77556.46</td>\n",
       "      <td>2281.072353</td>\n",
       "      <td>3877.8230</td>\n",
       "      <td>1.575669e+07</td>\n",
       "      <td>1.576057e+07</td>\n",
       "    </tr>\n",
       "    <tr>\n",
       "      <th>12608.0</th>\n",
       "      <td>0</td>\n",
       "      <td>16</td>\n",
       "      <td>323</td>\n",
       "      <td>415.79</td>\n",
       "      <td>25.986875</td>\n",
       "      <td>20.7895</td>\n",
       "      <td>1.795064e+05</td>\n",
       "      <td>1.795272e+05</td>\n",
       "    </tr>\n",
       "    <tr>\n",
       "      <th>12745.0</th>\n",
       "      <td>87</td>\n",
       "      <td>22</td>\n",
       "      <td>467</td>\n",
       "      <td>723.85</td>\n",
       "      <td>32.902273</td>\n",
       "      <td>36.1925</td>\n",
       "      <td>2.272751e+05</td>\n",
       "      <td>2.273113e+05</td>\n",
       "    </tr>\n",
       "    <tr>\n",
       "      <th>12746.0</th>\n",
       "      <td>0</td>\n",
       "      <td>17</td>\n",
       "      <td>97</td>\n",
       "      <td>254.55</td>\n",
       "      <td>14.973529</td>\n",
       "      <td>12.7275</td>\n",
       "      <td>1.034309e+05</td>\n",
       "      <td>1.034436e+05</td>\n",
       "    </tr>\n",
       "    <tr>\n",
       "      <th>12747.0</th>\n",
       "      <td>730</td>\n",
       "      <td>257</td>\n",
       "      <td>2758</td>\n",
       "      <td>9276.54</td>\n",
       "      <td>36.095486</td>\n",
       "      <td>463.8270</td>\n",
       "      <td>2.493325e+05</td>\n",
       "      <td>2.497963e+05</td>\n",
       "    </tr>\n",
       "  </tbody>\n",
       "</table>\n",
       "</div>"
      ],
      "text/plain": [
       "             num_days  num_transactions  num_units  spent_money  \\\n",
       "Customer ID                                                       \n",
       "12346.0           400                34      74285     77556.46   \n",
       "12608.0             0                16        323       415.79   \n",
       "12745.0            87                22        467       723.85   \n",
       "12746.0             0                17         97       254.55   \n",
       "12747.0           730               257       2758      9276.54   \n",
       "\n",
       "             Ave_order_value  profit_margin           CLV  cust_lifetime_value  \n",
       "Customer ID                                                                     \n",
       "12346.0          2281.072353      3877.8230  1.575669e+07         1.576057e+07  \n",
       "12608.0            25.986875        20.7895  1.795064e+05         1.795272e+05  \n",
       "12745.0            32.902273        36.1925  2.272751e+05         2.273113e+05  \n",
       "12746.0            14.973529        12.7275  1.034309e+05         1.034436e+05  \n",
       "12747.0            36.095486       463.8270  2.493325e+05         2.497963e+05  "
      ]
     },
     "execution_count": 31,
     "metadata": {},
     "output_type": "execute_result"
    }
   ],
   "source": [
    "uk_data_group['cust_lifetime_value'] = uk_data_group['CLV'] + uk_data_group['profit_margin']\n",
    "uk_data_group.head()"
   ]
  },
  {
   "cell_type": "code",
   "execution_count": 32,
   "id": "ef92726f-9297-4e5e-a7b5-c90ca377ffbe",
   "metadata": {},
   "outputs": [
    {
     "data": {
      "text/html": [
       "<div>\n",
       "<style scoped>\n",
       "    .dataframe tbody tr th:only-of-type {\n",
       "        vertical-align: middle;\n",
       "    }\n",
       "\n",
       "    .dataframe tbody tr th {\n",
       "        vertical-align: top;\n",
       "    }\n",
       "\n",
       "    .dataframe thead th {\n",
       "        text-align: right;\n",
       "    }\n",
       "</style>\n",
       "<table border=\"1\" class=\"dataframe\">\n",
       "  <thead>\n",
       "    <tr style=\"text-align: right;\">\n",
       "      <th></th>\n",
       "      <th>Customer ID</th>\n",
       "      <th>InvoiceDate</th>\n",
       "      <th>Invoice</th>\n",
       "      <th>Quantity</th>\n",
       "      <th>Price</th>\n",
       "      <th>TotalPurchase</th>\n",
       "    </tr>\n",
       "  </thead>\n",
       "  <tbody>\n",
       "    <tr>\n",
       "      <th>0</th>\n",
       "      <td>13085.0</td>\n",
       "      <td>2009-12-01 07:45:00</td>\n",
       "      <td>489434</td>\n",
       "      <td>12</td>\n",
       "      <td>6.95</td>\n",
       "      <td>83.4</td>\n",
       "    </tr>\n",
       "    <tr>\n",
       "      <th>1</th>\n",
       "      <td>13085.0</td>\n",
       "      <td>2009-12-01 07:45:00</td>\n",
       "      <td>489434</td>\n",
       "      <td>12</td>\n",
       "      <td>6.75</td>\n",
       "      <td>81.0</td>\n",
       "    </tr>\n",
       "    <tr>\n",
       "      <th>2</th>\n",
       "      <td>13085.0</td>\n",
       "      <td>2009-12-01 07:45:00</td>\n",
       "      <td>489434</td>\n",
       "      <td>12</td>\n",
       "      <td>6.75</td>\n",
       "      <td>81.0</td>\n",
       "    </tr>\n",
       "    <tr>\n",
       "      <th>3</th>\n",
       "      <td>13085.0</td>\n",
       "      <td>2009-12-01 07:45:00</td>\n",
       "      <td>489434</td>\n",
       "      <td>48</td>\n",
       "      <td>2.10</td>\n",
       "      <td>100.8</td>\n",
       "    </tr>\n",
       "    <tr>\n",
       "      <th>4</th>\n",
       "      <td>13085.0</td>\n",
       "      <td>2009-12-01 07:45:00</td>\n",
       "      <td>489434</td>\n",
       "      <td>24</td>\n",
       "      <td>1.25</td>\n",
       "      <td>30.0</td>\n",
       "    </tr>\n",
       "  </tbody>\n",
       "</table>\n",
       "</div>"
      ],
      "text/plain": [
       "   Customer ID         InvoiceDate Invoice  Quantity  Price  TotalPurchase\n",
       "0      13085.0 2009-12-01 07:45:00  489434        12   6.95           83.4\n",
       "1      13085.0 2009-12-01 07:45:00  489434        12   6.75           81.0\n",
       "2      13085.0 2009-12-01 07:45:00  489434        12   6.75           81.0\n",
       "3      13085.0 2009-12-01 07:45:00  489434        48   2.10          100.8\n",
       "4      13085.0 2009-12-01 07:45:00  489434        24   1.25           30.0"
      ]
     },
     "execution_count": 32,
     "metadata": {},
     "output_type": "execute_result"
    }
   ],
   "source": [
    "uk_data.head()"
   ]
  },
  {
   "cell_type": "code",
   "execution_count": 33,
   "id": "9e376c6d-c88d-4919-9ec5-6200348399c0",
   "metadata": {},
   "outputs": [],
   "source": [
    "# Preview the top rows from each sheet to check structure and compatibility\n",
    "df_1_preview = pd.read_excel(file_path, sheet_name='Year 2009-2010', nrows=5)\n",
    "df_2_preview = pd.read_excel(file_path, sheet_name='Year 2010-2011', nrows=5)\n"
   ]
  },
  {
   "cell_type": "code",
   "execution_count": 34,
   "id": "ab7f284b-011d-41a1-85b2-ff2a3ee6ace1",
   "metadata": {},
   "outputs": [
    {
     "name": "stdout",
     "output_type": "stream",
     "text": [
      "   Invoice StockCode                          Description  Quantity  \\\n",
      "0   489434     85048  15CM CHRISTMAS GLASS BALL 20 LIGHTS        12   \n",
      "1   489434    79323P                   PINK CHERRY LIGHTS        12   \n",
      "2   489434    79323W                  WHITE CHERRY LIGHTS        12   \n",
      "3   489434     22041         RECORD FRAME 7\" SINGLE SIZE         48   \n",
      "4   489434     21232       STRAWBERRY CERAMIC TRINKET BOX        24   \n",
      "\n",
      "          InvoiceDate  Price  Customer ID         Country  \n",
      "0 2009-12-01 07:45:00   6.95        13085  United Kingdom  \n",
      "1 2009-12-01 07:45:00   6.75        13085  United Kingdom  \n",
      "2 2009-12-01 07:45:00   6.75        13085  United Kingdom  \n",
      "3 2009-12-01 07:45:00   2.10        13085  United Kingdom  \n",
      "4 2009-12-01 07:45:00   1.25        13085  United Kingdom      Invoice StockCode                          Description  Quantity  \\\n",
      "0   536365    85123A   WHITE HANGING HEART T-LIGHT HOLDER         6   \n",
      "1   536365     71053                  WHITE METAL LANTERN         6   \n",
      "2   536365    84406B       CREAM CUPID HEARTS COAT HANGER         8   \n",
      "3   536365    84029G  KNITTED UNION FLAG HOT WATER BOTTLE         6   \n",
      "4   536365    84029E       RED WOOLLY HOTTIE WHITE HEART.         6   \n",
      "\n",
      "          InvoiceDate  Price  Customer ID         Country  \n",
      "0 2010-12-01 08:26:00   2.55        17850  United Kingdom  \n",
      "1 2010-12-01 08:26:00   3.39        17850  United Kingdom  \n",
      "2 2010-12-01 08:26:00   2.75        17850  United Kingdom  \n",
      "3 2010-12-01 08:26:00   3.39        17850  United Kingdom  \n",
      "4 2010-12-01 08:26:00   3.39        17850  United Kingdom  \n"
     ]
    }
   ],
   "source": [
    "print(df_1_preview, df_2_preview)"
   ]
  },
  {
   "cell_type": "code",
   "execution_count": 35,
   "id": "16d857a4-7513-49d3-b4c9-dad93d617642",
   "metadata": {},
   "outputs": [],
   "source": [
    "from sklearn.model_selection import train_test_split\n",
    "from sklearn.linear_model import LinearRegression\n",
    "from sklearn.metrics import mean_squared_error, r2_score"
   ]
  },
  {
   "cell_type": "code",
   "execution_count": 36,
   "id": "32220d61-0517-45bc-9fdc-278003062958",
   "metadata": {},
   "outputs": [],
   "source": [
    "# Merge both years of data\n",
    "df = pd.concat([df_1, df_2], ignore_index=True)"
   ]
  },
  {
   "cell_type": "code",
   "execution_count": 37,
   "id": "04f3d890-ea61-4680-a936-a8f6d7c4ebf1",
   "metadata": {},
   "outputs": [],
   "source": [
    "# Clean data\n",
    "df.dropna(subset=[\"Customer ID\"], inplace=True)\n",
    "df = df[df[\"Quantity\"] > 0]\n",
    "df = df[df[\"Price\"] > 0]"
   ]
  },
  {
   "cell_type": "code",
   "execution_count": 38,
   "id": "99a2eded-0438-488d-9fd3-0d9e70a415f4",
   "metadata": {},
   "outputs": [],
   "source": [
    "# Add TotalPrice\n",
    "df[\"TotalPrice\"] = df[\"Quantity\"] * df[\"Price\"]"
   ]
  },
  {
   "cell_type": "code",
   "execution_count": 39,
   "id": "afc7db76-080a-4569-be7e-d038d7c405c0",
   "metadata": {},
   "outputs": [],
   "source": [
    "# Feature Engineering per Customer\n",
    "snapshot_date = df[\"InvoiceDate\"].max() + pd.Timedelta(days=1)\n",
    "\n",
    "clv_df = df.groupby(\"Customer ID\").agg({\n",
    "    \"InvoiceDate\": [lambda x: (snapshot_date - x.max()).days, \n",
    "                    lambda x: (x.max() - x.min()).days,\n",
    "                    \"count\"],\n",
    "    \"Invoice\": \"nunique\",\n",
    "    \"TotalPrice\": \"sum\"\n",
    "})\n",
    "\n",
    "clv_df.columns = [\"Recency\", \"CustomerAge\", \"Frequency\", \"UniqueInvoices\", \"Monetary\"]\n",
    "clv_df[\"AvgOrderValue\"] = clv_df[\"Monetary\"] / clv_df[\"Frequency\"]\n",
    "clv_df = clv_df[clv_df[\"Monetary\"] > 0]"
   ]
  },
  {
   "cell_type": "code",
   "execution_count": 40,
   "id": "040e84ee-7505-430c-9065-0ae2088db0b8",
   "metadata": {},
   "outputs": [],
   "source": [
    "# Model - Predict Monetary (as proxy for CLV)\n",
    "X = clv_df[[\"Recency\", \"CustomerAge\", \"Frequency\", \"AvgOrderValue\"]]\n",
    "y = clv_df[\"Monetary\"]"
   ]
  },
  {
   "cell_type": "code",
   "execution_count": 41,
   "id": "72f9d87a-d9aa-442b-9169-5707c30f54e5",
   "metadata": {},
   "outputs": [
    {
     "data": {
      "text/html": [
       "<style>#sk-container-id-1 {\n",
       "  /* Definition of color scheme common for light and dark mode */\n",
       "  --sklearn-color-text: #000;\n",
       "  --sklearn-color-text-muted: #666;\n",
       "  --sklearn-color-line: gray;\n",
       "  /* Definition of color scheme for unfitted estimators */\n",
       "  --sklearn-color-unfitted-level-0: #fff5e6;\n",
       "  --sklearn-color-unfitted-level-1: #f6e4d2;\n",
       "  --sklearn-color-unfitted-level-2: #ffe0b3;\n",
       "  --sklearn-color-unfitted-level-3: chocolate;\n",
       "  /* Definition of color scheme for fitted estimators */\n",
       "  --sklearn-color-fitted-level-0: #f0f8ff;\n",
       "  --sklearn-color-fitted-level-1: #d4ebff;\n",
       "  --sklearn-color-fitted-level-2: #b3dbfd;\n",
       "  --sklearn-color-fitted-level-3: cornflowerblue;\n",
       "\n",
       "  /* Specific color for light theme */\n",
       "  --sklearn-color-text-on-default-background: var(--sg-text-color, var(--theme-code-foreground, var(--jp-content-font-color1, black)));\n",
       "  --sklearn-color-background: var(--sg-background-color, var(--theme-background, var(--jp-layout-color0, white)));\n",
       "  --sklearn-color-border-box: var(--sg-text-color, var(--theme-code-foreground, var(--jp-content-font-color1, black)));\n",
       "  --sklearn-color-icon: #696969;\n",
       "\n",
       "  @media (prefers-color-scheme: dark) {\n",
       "    /* Redefinition of color scheme for dark theme */\n",
       "    --sklearn-color-text-on-default-background: var(--sg-text-color, var(--theme-code-foreground, var(--jp-content-font-color1, white)));\n",
       "    --sklearn-color-background: var(--sg-background-color, var(--theme-background, var(--jp-layout-color0, #111)));\n",
       "    --sklearn-color-border-box: var(--sg-text-color, var(--theme-code-foreground, var(--jp-content-font-color1, white)));\n",
       "    --sklearn-color-icon: #878787;\n",
       "  }\n",
       "}\n",
       "\n",
       "#sk-container-id-1 {\n",
       "  color: var(--sklearn-color-text);\n",
       "}\n",
       "\n",
       "#sk-container-id-1 pre {\n",
       "  padding: 0;\n",
       "}\n",
       "\n",
       "#sk-container-id-1 input.sk-hidden--visually {\n",
       "  border: 0;\n",
       "  clip: rect(1px 1px 1px 1px);\n",
       "  clip: rect(1px, 1px, 1px, 1px);\n",
       "  height: 1px;\n",
       "  margin: -1px;\n",
       "  overflow: hidden;\n",
       "  padding: 0;\n",
       "  position: absolute;\n",
       "  width: 1px;\n",
       "}\n",
       "\n",
       "#sk-container-id-1 div.sk-dashed-wrapped {\n",
       "  border: 1px dashed var(--sklearn-color-line);\n",
       "  margin: 0 0.4em 0.5em 0.4em;\n",
       "  box-sizing: border-box;\n",
       "  padding-bottom: 0.4em;\n",
       "  background-color: var(--sklearn-color-background);\n",
       "}\n",
       "\n",
       "#sk-container-id-1 div.sk-container {\n",
       "  /* jupyter's `normalize.less` sets `[hidden] { display: none; }`\n",
       "     but bootstrap.min.css set `[hidden] { display: none !important; }`\n",
       "     so we also need the `!important` here to be able to override the\n",
       "     default hidden behavior on the sphinx rendered scikit-learn.org.\n",
       "     See: https://github.com/scikit-learn/scikit-learn/issues/21755 */\n",
       "  display: inline-block !important;\n",
       "  position: relative;\n",
       "}\n",
       "\n",
       "#sk-container-id-1 div.sk-text-repr-fallback {\n",
       "  display: none;\n",
       "}\n",
       "\n",
       "div.sk-parallel-item,\n",
       "div.sk-serial,\n",
       "div.sk-item {\n",
       "  /* draw centered vertical line to link estimators */\n",
       "  background-image: linear-gradient(var(--sklearn-color-text-on-default-background), var(--sklearn-color-text-on-default-background));\n",
       "  background-size: 2px 100%;\n",
       "  background-repeat: no-repeat;\n",
       "  background-position: center center;\n",
       "}\n",
       "\n",
       "/* Parallel-specific style estimator block */\n",
       "\n",
       "#sk-container-id-1 div.sk-parallel-item::after {\n",
       "  content: \"\";\n",
       "  width: 100%;\n",
       "  border-bottom: 2px solid var(--sklearn-color-text-on-default-background);\n",
       "  flex-grow: 1;\n",
       "}\n",
       "\n",
       "#sk-container-id-1 div.sk-parallel {\n",
       "  display: flex;\n",
       "  align-items: stretch;\n",
       "  justify-content: center;\n",
       "  background-color: var(--sklearn-color-background);\n",
       "  position: relative;\n",
       "}\n",
       "\n",
       "#sk-container-id-1 div.sk-parallel-item {\n",
       "  display: flex;\n",
       "  flex-direction: column;\n",
       "}\n",
       "\n",
       "#sk-container-id-1 div.sk-parallel-item:first-child::after {\n",
       "  align-self: flex-end;\n",
       "  width: 50%;\n",
       "}\n",
       "\n",
       "#sk-container-id-1 div.sk-parallel-item:last-child::after {\n",
       "  align-self: flex-start;\n",
       "  width: 50%;\n",
       "}\n",
       "\n",
       "#sk-container-id-1 div.sk-parallel-item:only-child::after {\n",
       "  width: 0;\n",
       "}\n",
       "\n",
       "/* Serial-specific style estimator block */\n",
       "\n",
       "#sk-container-id-1 div.sk-serial {\n",
       "  display: flex;\n",
       "  flex-direction: column;\n",
       "  align-items: center;\n",
       "  background-color: var(--sklearn-color-background);\n",
       "  padding-right: 1em;\n",
       "  padding-left: 1em;\n",
       "}\n",
       "\n",
       "\n",
       "/* Toggleable style: style used for estimator/Pipeline/ColumnTransformer box that is\n",
       "clickable and can be expanded/collapsed.\n",
       "- Pipeline and ColumnTransformer use this feature and define the default style\n",
       "- Estimators will overwrite some part of the style using the `sk-estimator` class\n",
       "*/\n",
       "\n",
       "/* Pipeline and ColumnTransformer style (default) */\n",
       "\n",
       "#sk-container-id-1 div.sk-toggleable {\n",
       "  /* Default theme specific background. It is overwritten whether we have a\n",
       "  specific estimator or a Pipeline/ColumnTransformer */\n",
       "  background-color: var(--sklearn-color-background);\n",
       "}\n",
       "\n",
       "/* Toggleable label */\n",
       "#sk-container-id-1 label.sk-toggleable__label {\n",
       "  cursor: pointer;\n",
       "  display: flex;\n",
       "  width: 100%;\n",
       "  margin-bottom: 0;\n",
       "  padding: 0.5em;\n",
       "  box-sizing: border-box;\n",
       "  text-align: center;\n",
       "  align-items: start;\n",
       "  justify-content: space-between;\n",
       "  gap: 0.5em;\n",
       "}\n",
       "\n",
       "#sk-container-id-1 label.sk-toggleable__label .caption {\n",
       "  font-size: 0.6rem;\n",
       "  font-weight: lighter;\n",
       "  color: var(--sklearn-color-text-muted);\n",
       "}\n",
       "\n",
       "#sk-container-id-1 label.sk-toggleable__label-arrow:before {\n",
       "  /* Arrow on the left of the label */\n",
       "  content: \"▸\";\n",
       "  float: left;\n",
       "  margin-right: 0.25em;\n",
       "  color: var(--sklearn-color-icon);\n",
       "}\n",
       "\n",
       "#sk-container-id-1 label.sk-toggleable__label-arrow:hover:before {\n",
       "  color: var(--sklearn-color-text);\n",
       "}\n",
       "\n",
       "/* Toggleable content - dropdown */\n",
       "\n",
       "#sk-container-id-1 div.sk-toggleable__content {\n",
       "  max-height: 0;\n",
       "  max-width: 0;\n",
       "  overflow: hidden;\n",
       "  text-align: left;\n",
       "  /* unfitted */\n",
       "  background-color: var(--sklearn-color-unfitted-level-0);\n",
       "}\n",
       "\n",
       "#sk-container-id-1 div.sk-toggleable__content.fitted {\n",
       "  /* fitted */\n",
       "  background-color: var(--sklearn-color-fitted-level-0);\n",
       "}\n",
       "\n",
       "#sk-container-id-1 div.sk-toggleable__content pre {\n",
       "  margin: 0.2em;\n",
       "  border-radius: 0.25em;\n",
       "  color: var(--sklearn-color-text);\n",
       "  /* unfitted */\n",
       "  background-color: var(--sklearn-color-unfitted-level-0);\n",
       "}\n",
       "\n",
       "#sk-container-id-1 div.sk-toggleable__content.fitted pre {\n",
       "  /* unfitted */\n",
       "  background-color: var(--sklearn-color-fitted-level-0);\n",
       "}\n",
       "\n",
       "#sk-container-id-1 input.sk-toggleable__control:checked~div.sk-toggleable__content {\n",
       "  /* Expand drop-down */\n",
       "  max-height: 200px;\n",
       "  max-width: 100%;\n",
       "  overflow: auto;\n",
       "}\n",
       "\n",
       "#sk-container-id-1 input.sk-toggleable__control:checked~label.sk-toggleable__label-arrow:before {\n",
       "  content: \"▾\";\n",
       "}\n",
       "\n",
       "/* Pipeline/ColumnTransformer-specific style */\n",
       "\n",
       "#sk-container-id-1 div.sk-label input.sk-toggleable__control:checked~label.sk-toggleable__label {\n",
       "  color: var(--sklearn-color-text);\n",
       "  background-color: var(--sklearn-color-unfitted-level-2);\n",
       "}\n",
       "\n",
       "#sk-container-id-1 div.sk-label.fitted input.sk-toggleable__control:checked~label.sk-toggleable__label {\n",
       "  background-color: var(--sklearn-color-fitted-level-2);\n",
       "}\n",
       "\n",
       "/* Estimator-specific style */\n",
       "\n",
       "/* Colorize estimator box */\n",
       "#sk-container-id-1 div.sk-estimator input.sk-toggleable__control:checked~label.sk-toggleable__label {\n",
       "  /* unfitted */\n",
       "  background-color: var(--sklearn-color-unfitted-level-2);\n",
       "}\n",
       "\n",
       "#sk-container-id-1 div.sk-estimator.fitted input.sk-toggleable__control:checked~label.sk-toggleable__label {\n",
       "  /* fitted */\n",
       "  background-color: var(--sklearn-color-fitted-level-2);\n",
       "}\n",
       "\n",
       "#sk-container-id-1 div.sk-label label.sk-toggleable__label,\n",
       "#sk-container-id-1 div.sk-label label {\n",
       "  /* The background is the default theme color */\n",
       "  color: var(--sklearn-color-text-on-default-background);\n",
       "}\n",
       "\n",
       "/* On hover, darken the color of the background */\n",
       "#sk-container-id-1 div.sk-label:hover label.sk-toggleable__label {\n",
       "  color: var(--sklearn-color-text);\n",
       "  background-color: var(--sklearn-color-unfitted-level-2);\n",
       "}\n",
       "\n",
       "/* Label box, darken color on hover, fitted */\n",
       "#sk-container-id-1 div.sk-label.fitted:hover label.sk-toggleable__label.fitted {\n",
       "  color: var(--sklearn-color-text);\n",
       "  background-color: var(--sklearn-color-fitted-level-2);\n",
       "}\n",
       "\n",
       "/* Estimator label */\n",
       "\n",
       "#sk-container-id-1 div.sk-label label {\n",
       "  font-family: monospace;\n",
       "  font-weight: bold;\n",
       "  display: inline-block;\n",
       "  line-height: 1.2em;\n",
       "}\n",
       "\n",
       "#sk-container-id-1 div.sk-label-container {\n",
       "  text-align: center;\n",
       "}\n",
       "\n",
       "/* Estimator-specific */\n",
       "#sk-container-id-1 div.sk-estimator {\n",
       "  font-family: monospace;\n",
       "  border: 1px dotted var(--sklearn-color-border-box);\n",
       "  border-radius: 0.25em;\n",
       "  box-sizing: border-box;\n",
       "  margin-bottom: 0.5em;\n",
       "  /* unfitted */\n",
       "  background-color: var(--sklearn-color-unfitted-level-0);\n",
       "}\n",
       "\n",
       "#sk-container-id-1 div.sk-estimator.fitted {\n",
       "  /* fitted */\n",
       "  background-color: var(--sklearn-color-fitted-level-0);\n",
       "}\n",
       "\n",
       "/* on hover */\n",
       "#sk-container-id-1 div.sk-estimator:hover {\n",
       "  /* unfitted */\n",
       "  background-color: var(--sklearn-color-unfitted-level-2);\n",
       "}\n",
       "\n",
       "#sk-container-id-1 div.sk-estimator.fitted:hover {\n",
       "  /* fitted */\n",
       "  background-color: var(--sklearn-color-fitted-level-2);\n",
       "}\n",
       "\n",
       "/* Specification for estimator info (e.g. \"i\" and \"?\") */\n",
       "\n",
       "/* Common style for \"i\" and \"?\" */\n",
       "\n",
       ".sk-estimator-doc-link,\n",
       "a:link.sk-estimator-doc-link,\n",
       "a:visited.sk-estimator-doc-link {\n",
       "  float: right;\n",
       "  font-size: smaller;\n",
       "  line-height: 1em;\n",
       "  font-family: monospace;\n",
       "  background-color: var(--sklearn-color-background);\n",
       "  border-radius: 1em;\n",
       "  height: 1em;\n",
       "  width: 1em;\n",
       "  text-decoration: none !important;\n",
       "  margin-left: 0.5em;\n",
       "  text-align: center;\n",
       "  /* unfitted */\n",
       "  border: var(--sklearn-color-unfitted-level-1) 1pt solid;\n",
       "  color: var(--sklearn-color-unfitted-level-1);\n",
       "}\n",
       "\n",
       ".sk-estimator-doc-link.fitted,\n",
       "a:link.sk-estimator-doc-link.fitted,\n",
       "a:visited.sk-estimator-doc-link.fitted {\n",
       "  /* fitted */\n",
       "  border: var(--sklearn-color-fitted-level-1) 1pt solid;\n",
       "  color: var(--sklearn-color-fitted-level-1);\n",
       "}\n",
       "\n",
       "/* On hover */\n",
       "div.sk-estimator:hover .sk-estimator-doc-link:hover,\n",
       ".sk-estimator-doc-link:hover,\n",
       "div.sk-label-container:hover .sk-estimator-doc-link:hover,\n",
       ".sk-estimator-doc-link:hover {\n",
       "  /* unfitted */\n",
       "  background-color: var(--sklearn-color-unfitted-level-3);\n",
       "  color: var(--sklearn-color-background);\n",
       "  text-decoration: none;\n",
       "}\n",
       "\n",
       "div.sk-estimator.fitted:hover .sk-estimator-doc-link.fitted:hover,\n",
       ".sk-estimator-doc-link.fitted:hover,\n",
       "div.sk-label-container:hover .sk-estimator-doc-link.fitted:hover,\n",
       ".sk-estimator-doc-link.fitted:hover {\n",
       "  /* fitted */\n",
       "  background-color: var(--sklearn-color-fitted-level-3);\n",
       "  color: var(--sklearn-color-background);\n",
       "  text-decoration: none;\n",
       "}\n",
       "\n",
       "/* Span, style for the box shown on hovering the info icon */\n",
       ".sk-estimator-doc-link span {\n",
       "  display: none;\n",
       "  z-index: 9999;\n",
       "  position: relative;\n",
       "  font-weight: normal;\n",
       "  right: .2ex;\n",
       "  padding: .5ex;\n",
       "  margin: .5ex;\n",
       "  width: min-content;\n",
       "  min-width: 20ex;\n",
       "  max-width: 50ex;\n",
       "  color: var(--sklearn-color-text);\n",
       "  box-shadow: 2pt 2pt 4pt #999;\n",
       "  /* unfitted */\n",
       "  background: var(--sklearn-color-unfitted-level-0);\n",
       "  border: .5pt solid var(--sklearn-color-unfitted-level-3);\n",
       "}\n",
       "\n",
       ".sk-estimator-doc-link.fitted span {\n",
       "  /* fitted */\n",
       "  background: var(--sklearn-color-fitted-level-0);\n",
       "  border: var(--sklearn-color-fitted-level-3);\n",
       "}\n",
       "\n",
       ".sk-estimator-doc-link:hover span {\n",
       "  display: block;\n",
       "}\n",
       "\n",
       "/* \"?\"-specific style due to the `<a>` HTML tag */\n",
       "\n",
       "#sk-container-id-1 a.estimator_doc_link {\n",
       "  float: right;\n",
       "  font-size: 1rem;\n",
       "  line-height: 1em;\n",
       "  font-family: monospace;\n",
       "  background-color: var(--sklearn-color-background);\n",
       "  border-radius: 1rem;\n",
       "  height: 1rem;\n",
       "  width: 1rem;\n",
       "  text-decoration: none;\n",
       "  /* unfitted */\n",
       "  color: var(--sklearn-color-unfitted-level-1);\n",
       "  border: var(--sklearn-color-unfitted-level-1) 1pt solid;\n",
       "}\n",
       "\n",
       "#sk-container-id-1 a.estimator_doc_link.fitted {\n",
       "  /* fitted */\n",
       "  border: var(--sklearn-color-fitted-level-1) 1pt solid;\n",
       "  color: var(--sklearn-color-fitted-level-1);\n",
       "}\n",
       "\n",
       "/* On hover */\n",
       "#sk-container-id-1 a.estimator_doc_link:hover {\n",
       "  /* unfitted */\n",
       "  background-color: var(--sklearn-color-unfitted-level-3);\n",
       "  color: var(--sklearn-color-background);\n",
       "  text-decoration: none;\n",
       "}\n",
       "\n",
       "#sk-container-id-1 a.estimator_doc_link.fitted:hover {\n",
       "  /* fitted */\n",
       "  background-color: var(--sklearn-color-fitted-level-3);\n",
       "}\n",
       "</style><div id=\"sk-container-id-1\" class=\"sk-top-container\"><div class=\"sk-text-repr-fallback\"><pre>LinearRegression()</pre><b>In a Jupyter environment, please rerun this cell to show the HTML representation or trust the notebook. <br />On GitHub, the HTML representation is unable to render, please try loading this page with nbviewer.org.</b></div><div class=\"sk-container\" hidden><div class=\"sk-item\"><div class=\"sk-estimator fitted sk-toggleable\"><input class=\"sk-toggleable__control sk-hidden--visually\" id=\"sk-estimator-id-1\" type=\"checkbox\" checked><label for=\"sk-estimator-id-1\" class=\"sk-toggleable__label fitted sk-toggleable__label-arrow\"><div><div>LinearRegression</div></div><div><a class=\"sk-estimator-doc-link fitted\" rel=\"noreferrer\" target=\"_blank\" href=\"https://scikit-learn.org/1.6/modules/generated/sklearn.linear_model.LinearRegression.html\">?<span>Documentation for LinearRegression</span></a><span class=\"sk-estimator-doc-link fitted\">i<span>Fitted</span></span></div></label><div class=\"sk-toggleable__content fitted\"><pre>LinearRegression()</pre></div> </div></div></div></div>"
      ],
      "text/plain": [
       "LinearRegression()"
      ]
     },
     "execution_count": 41,
     "metadata": {},
     "output_type": "execute_result"
    }
   ],
   "source": [
    "X_train, X_test, y_train, y_test = train_test_split(X, y, test_size=0.2, random_state=42)\n",
    "\n",
    "model = LinearRegression()\n",
    "model.fit(X_train, y_train)"
   ]
  },
  {
   "cell_type": "code",
   "execution_count": 42,
   "id": "ba2f558f-3933-4973-8367-7619b4f4b80d",
   "metadata": {},
   "outputs": [],
   "source": [
    "y_pred = model.predict(X_test)"
   ]
  },
  {
   "cell_type": "code",
   "execution_count": 43,
   "id": "1161f4d1-505e-458d-b65e-2975d0eb5c39",
   "metadata": {},
   "outputs": [
    {
     "data": {
      "text/plain": [
       "(276211307.7854659,\n",
       " 0.2481324633414529,\n",
       " array([ 0.39036282,  4.6766803 , 15.00925598,  3.27058355]),\n",
       " np.float64(-625.3239154634866))"
      ]
     },
     "execution_count": 43,
     "metadata": {},
     "output_type": "execute_result"
    }
   ],
   "source": [
    "# Evaluation\n",
    "mse = mean_squared_error(y_test, y_pred)\n",
    "r2 = r2_score(y_test, y_pred)\n",
    "\n",
    "mse, r2, model.coef_, model.intercept_"
   ]
  },
  {
   "cell_type": "code",
   "execution_count": 44,
   "id": "7f1c0c18-7ede-4cc2-9075-328cca044556",
   "metadata": {},
   "outputs": [],
   "source": [
    "import pandas as pd\n",
    "from sklearn.model_selection import train_test_split\n",
    "from sklearn.linear_model import LinearRegression\n",
    "from sklearn.metrics import mean_squared_error, r2_score\n"
   ]
  },
  {
   "cell_type": "code",
   "execution_count": 45,
   "id": "b5663b8b-5862-491b-9615-393859f6dd8c",
   "metadata": {},
   "outputs": [],
   "source": [
    "# Total price for each row\n",
    "df[\"TotalPrice\"] = df[\"Quantity\"] * df[\"Price\"]"
   ]
  },
  {
   "cell_type": "code",
   "execution_count": 46,
   "id": "0fec99b9-2619-4c80-9d2c-1930cf7e0b7a",
   "metadata": {},
   "outputs": [],
   "source": [
    "# Snapshot date for recency calculation\n",
    "snapshot_date = df[\"InvoiceDate\"].max() + pd.Timedelta(days=1)"
   ]
  },
  {
   "cell_type": "code",
   "execution_count": 47,
   "id": "f57c0350-469a-4b72-805c-a6eb2566806e",
   "metadata": {},
   "outputs": [],
   "source": [
    "# Aggregate per customer\n",
    "clv_df = df.groupby(\"Customer ID\").agg({\n",
    "    \"InvoiceDate\": [\n",
    "        lambda x: (snapshot_date - x.max()).days,     # Recency\n",
    "        lambda x: (x.max() - x.min()).days,           # Customer age\n",
    "        \"count\"                                       # Frequency\n",
    "    ],\n",
    "    \"Invoice\": \"nunique\",                             # Unique invoices\n",
    "    \"TotalPrice\": \"sum\"                               # Monetary value\n",
    "})\n",
    "\n",
    "clv_df.columns = [\"Recency\", \"CustomerAge\", \"Frequency\", \"UniqueInvoices\", \"Monetary\"]\n",
    "clv_df[\"AvgOrderValue\"] = clv_df[\"Monetary\"] / clv_df[\"Frequency\"]\n",
    "clv_df = clv_df[clv_df[\"Monetary\"] > 0]"
   ]
  },
  {
   "cell_type": "code",
   "execution_count": 48,
   "id": "090ae086-c4b6-42a7-bc69-64dbd2c872ac",
   "metadata": {},
   "outputs": [],
   "source": [
    "# Features and target\n",
    "X = clv_df[[\"Recency\", \"CustomerAge\", \"Frequency\", \"AvgOrderValue\"]]\n",
    "y = clv_df[\"Monetary\"]"
   ]
  },
  {
   "cell_type": "code",
   "execution_count": 49,
   "id": "d468ac41-9a13-4b46-8ca2-01d4ff6b495d",
   "metadata": {},
   "outputs": [
    {
     "name": "stdout",
     "output_type": "stream",
     "text": [
      "Mean Squared Error: 276211307.7854659\n",
      "R² Score: 0.2481324633414529\n",
      "Model Coefficients: [ 0.39036282  4.6766803  15.00925598  3.27058355]\n",
      "Model Intercept: -625.3239154634866\n"
     ]
    }
   ],
   "source": [
    "# Evaluate\n",
    "mse = mean_squared_error(y_test, y_pred)\n",
    "r2 = r2_score(y_test, y_pred)\n",
    "\n",
    "print(\"Mean Squared Error:\", mse)\n",
    "print(\"R² Score:\", r2)\n",
    "print(\"Model Coefficients:\", model.coef_)\n",
    "print(\"Model Intercept:\", model.intercept_)"
   ]
  },
  {
   "cell_type": "markdown",
   "id": "16f4491e-eed0-48e5-8067-4d6b7b7cacc0",
   "metadata": {},
   "source": [
    "# 📊 VISUALIZATION & INSIGHTS"
   ]
  },
  {
   "cell_type": "markdown",
   "id": "69b46bd5-4cb7-43f9-bba7-0cb284179571",
   "metadata": {},
   "source": [
    "## 1️⃣ Distribution of Monetary Value (CLV)"
   ]
  },
  {
   "cell_type": "code",
   "execution_count": 50,
   "id": "e14e2ae2-6f8b-43d0-b79d-37f0702f31a1",
   "metadata": {},
   "outputs": [
    {
     "data": {
      "image/png": "[encoded data removed]",
      "text/plain": [
       "<Figure size 800x500 with 1 Axes>"
      ]
     },
     "metadata": {},
     "output_type": "display_data"
    }
   ],
   "source": [
    "plt.figure(figsize=(8, 5))\n",
    "sns.histplot(clv_df[\"Monetary\"], bins=50, kde=True, color='skyblue')\n",
    "plt.title(\"Distribution of Customer Monetary Value\")\n",
    "plt.xlabel(\"Total Monetary Value\")\n",
    "plt.ylabel(\"Number of Customers\")\n",
    "plt.show()"
   ]
  },
  {
   "cell_type": "markdown",
   "id": "38d9e13a-cc8a-40f3-9346-db5baa2b6e98",
   "metadata": {},
   "source": [
    "## 2️⃣ Recency vs Monetary Value"
   ]
  },
  {
   "cell_type": "code",
   "execution_count": 51,
   "id": "e5618657-d34c-40ee-98ef-c192d529c3a1",
   "metadata": {},
   "outputs": [
    {
     "data": {
      "image/png": "[encoded data removed]",
      "text/plain": [
       "<Figure size 800x600 with 1 Axes>"
      ]
     },
     "metadata": {},
     "output_type": "display_data"
    }
   ],
   "source": [
    "plt.figure(figsize=(8, 6))\n",
    "sns.scatterplot(data=clv_df, x=\"Recency\", y=\"Monetary\", hue=\"AvgOrderValue\", palette=\"viridis\")\n",
    "plt.title(\"Recency vs Monetary Value\")\n",
    "plt.xlabel(\"Recency (days since last purchase)\")\n",
    "plt.ylabel(\"Total Monetary Value\")\n",
    "plt.show()"
   ]
  },
  {
   "cell_type": "markdown",
   "id": "19f11430-cff3-4d82-8164-66a45c9f35c0",
   "metadata": {},
   "source": [
    "## 3️⃣ Customer Segmentation Based on Frequency & AvgOrderValue"
   ]
  },
  {
   "cell_type": "code",
   "execution_count": 52,
   "id": "89539fd7-55d7-4a03-8e43-26fa93273802",
   "metadata": {},
   "outputs": [
    {
     "data": {
      "image/png": "[encoded data removed]",
      "text/plain": [
       "<Figure size 800x600 with 1 Axes>"
      ]
     },
     "metadata": {},
     "output_type": "display_data"
    }
   ],
   "source": [
    "plt.figure(figsize=(8, 6))\n",
    "sns.scatterplot(data=clv_df, x=\"Frequency\", y=\"AvgOrderValue\", size=\"Monetary\", hue=\"Monetary\", palette=\"cool\", alpha=0.7)\n",
    "plt.title(\"Frequency vs Avg Order Value (Bubble = Monetary Value)\")\n",
    "plt.xlabel(\"Purchase Frequency\")\n",
    "plt.ylabel(\"Average Order Value\")\n",
    "plt.legend(loc=\"upper right\")\n",
    "plt.show()"
   ]
  },
  {
   "cell_type": "markdown",
   "id": "6c228241-e428-48a2-b014-463eda820100",
   "metadata": {},
   "source": [
    "## 4️⃣ Correlation Heatmap of Features"
   ]
  },
  {
   "cell_type": "code",
   "execution_count": 53,
   "id": "5ddae787-b2f0-4fa7-b746-4983034165a0",
   "metadata": {},
   "outputs": [
    {
     "data": {
      "image/png": "[encoded data removed]",
      "text/plain": [
       "<Figure size 1000x600 with 2 Axes>"
      ]
     },
     "metadata": {},
     "output_type": "display_data"
    }
   ],
   "source": [
    "plt.figure(figsize=(10, 6))\n",
    "corr_matrix = clv_df[[\"Recency\", \"CustomerAge\", \"Frequency\", \"AvgOrderValue\", \"Monetary\"]].corr()\n",
    "sns.heatmap(corr_matrix, annot=True, cmap=\"coolwarm\", linewidths=0.5)\n",
    "plt.title(\"Correlation Matrix of Customer Features\")\n",
    "plt.show()"
   ]
  },
  {
   "cell_type": "markdown",
   "id": "e5e4758c-e9fc-465b-b730-0c4230ce5a8c",
   "metadata": {},
   "source": [
    "## 5️⃣ Actual vs Predicted CLV (Model Performance)"
   ]
  },
  {
   "cell_type": "code",
   "execution_count": 54,
   "id": "defa81e6-edf8-43df-b3cf-c0d849098f25",
   "metadata": {},
   "outputs": [
    {
     "data": {
      "image/png": "[encoded data removed]",
      "text/plain": [
       "<Figure size 800x600 with 1 Axes>"
      ]
     },
     "metadata": {},
     "output_type": "display_data"
    }
   ],
   "source": [
    "plt.figure(figsize=(8, 6))\n",
    "sns.scatterplot(x=y_test, y=y_pred, alpha=0.6, color='dodgerblue')\n",
    "plt.plot([y_test.min(), y_test.max()], [y_test.min(), y_test.max()], 'r--')  # Ideal line\n",
    "plt.xlabel(\"Actual Monetary Value\")\n",
    "plt.ylabel(\"Predicted Monetary Value\")\n",
    "plt.title(\"Actual vs Predicted CLV\")\n",
    "plt.show()"
   ]
  },
  {
   "cell_type": "markdown",
   "id": "058adecf-78c4-4f84-8c5d-2e69e1ac0485",
   "metadata": {},
   "source": [
    "# 🧠 Advanced Business Insights"
   ]
  },
  {
   "cell_type": "markdown",
   "id": "50b0ebd5-6fa9-4796-9388-85bab548c12c",
   "metadata": {},
   "source": [
    "## ✅ 1. Top 10% High-Value Customers"
   ]
  },
  {
   "cell_type": "code",
   "execution_count": 55,
   "id": "0955dd2c-f816-4993-9a04-f6667ec20db7",
   "metadata": {},
   "outputs": [
    {
     "name": "stdout",
     "output_type": "stream",
     "text": [
      "Top 10% High-Value Customers: 588\n"
     ]
    }
   ],
   "source": [
    "top_10_percent_threshold = clv_df[\"Monetary\"].quantile(0.90)\n",
    "high_value_customers = clv_df[clv_df[\"Monetary\"] >= top_10_percent_threshold]\n",
    "\n",
    "print(\"Top 10% High-Value Customers:\", len(high_value_customers))"
   ]
  },
  {
   "cell_type": "markdown",
   "id": "19cbc77d-8f5a-49a0-b4cd-fdf1e4cebda1",
   "metadata": {},
   "source": [
    "## ✅ 2. At-Risk Customers"
   ]
  },
  {
   "cell_type": "code",
   "execution_count": 56,
   "id": "bab324b0-0020-47ba-baf3-f028aedbecb8",
   "metadata": {},
   "outputs": [
    {
     "name": "stdout",
     "output_type": "stream",
     "text": [
      "At-Risk High Spenders: 10\n"
     ]
    }
   ],
   "source": [
    "recency_threshold = clv_df[\"Recency\"].quantile(0.90)\n",
    "at_risk_customers = clv_df[(clv_df[\"Monetary\"] >= top_10_percent_threshold) &\n",
    "                           (clv_df[\"Recency\"] >= recency_threshold)]\n",
    "\n",
    "print(\"At-Risk High Spenders:\", len(at_risk_customers))"
   ]
  },
  {
   "cell_type": "markdown",
   "id": "5bb315ba-b79a-43e4-a1dc-88b92d0af90e",
   "metadata": {},
   "source": [
    "## ✅ 3. Loyal Customers"
   ]
  },
  {
   "cell_type": "code",
   "execution_count": 57,
   "id": "afd65402-8d19-4549-9658-69de11ae0b93",
   "metadata": {},
   "outputs": [
    {
     "name": "stdout",
     "output_type": "stream",
     "text": [
      "Loyal Customers: 747\n"
     ]
    }
   ],
   "source": [
    "loyal_customers = clv_df[(clv_df[\"Frequency\"] > clv_df[\"Frequency\"].quantile(0.75)) &\n",
    "                         (clv_df[\"Recency\"] < clv_df[\"Recency\"].quantile(0.25))]\n",
    "\n",
    "print(\"Loyal Customers:\", len(loyal_customers))"
   ]
  },
  {
   "cell_type": "markdown",
   "id": "375bbe1b-66f3-4a7c-a1a3-52283077a95c",
   "metadata": {},
   "source": [
    "## ✅ 4. New Customers"
   ]
  },
  {
   "cell_type": "code",
   "execution_count": 58,
   "id": "99c74fdf-e688-4bab-91b1-cadf4d28e820",
   "metadata": {},
   "outputs": [
    {
     "name": "stdout",
     "output_type": "stream",
     "text": [
      "New Customers: 0\n"
     ]
    }
   ],
   "source": [
    "new_customers = clv_df[clv_df[\"CustomerAge\"] < clv_df[\"CustomerAge\"].quantile(0.25)]\n",
    "\n",
    "print(\"New Customers:\", len(new_customers))"
   ]
  },
  {
   "cell_type": "markdown",
   "id": "d9187d2b-13ac-4c73-8b24-484e33c7fd29",
   "metadata": {},
   "source": [
    "## ✅ 5. High Potential Customers"
   ]
  },
  {
   "cell_type": "code",
   "execution_count": 59,
   "id": "627ba01c-e4fb-419d-a8fe-c443d1701f88",
   "metadata": {},
   "outputs": [
    {
     "name": "stdout",
     "output_type": "stream",
     "text": [
      "High Potential Customers (Upsell Targets): 855\n"
     ]
    }
   ],
   "source": [
    "potential_customers = clv_df[(clv_df[\"Monetary\"] < top_10_percent_threshold) &\n",
    "                             (clv_df[\"Frequency\"] > clv_df[\"Frequency\"].median()) &\n",
    "                             (clv_df[\"AvgOrderValue\"] > clv_df[\"AvgOrderValue\"].median())]\n",
    "\n",
    "print(\"High Potential Customers (Upsell Targets):\", len(potential_customers))"
   ]
  },
  {
   "cell_type": "markdown",
   "id": "5ef7e654-915c-4e0e-982e-3e2b5169b0a2",
   "metadata": {},
   "source": [
    "## 🧾 Summary Table (Counts of Each Segment)"
   ]
  },
  {
   "cell_type": "code",
   "execution_count": 60,
   "id": "387290d9-65f4-4def-ab4f-c7b66cb407e3",
   "metadata": {},
   "outputs": [
    {
     "name": "stdout",
     "output_type": "stream",
     "text": [
      "            Customer Count\n",
      "High-Value             588\n",
      "At-Risk                 10\n",
      "Loyal                  747\n",
      "New                      0\n",
      "Potential              855\n"
     ]
    }
   ],
   "source": [
    "summary = {\n",
    "    \"High-Value\": len(high_value_customers),\n",
    "    \"At-Risk\": len(at_risk_customers),\n",
    "    \"Loyal\": len(loyal_customers),\n",
    "    \"New\": len(new_customers),\n",
    "    \"Potential\": len(potential_customers)\n",
    "}\n",
    "\n",
    "summary_df = pd.DataFrame.from_dict(summary, orient=\"index\", columns=[\"Customer Count\"])\n",
    "print(summary_df)\n"
   ]
  },
  {
   "cell_type": "markdown",
   "id": "9df514de-5f62-4dc3-9b8f-b86b59d2e00b",
   "metadata": {},
   "source": [
    "## 🧠 Business Actions Based on Segments\n",
    "| Segment    | Suggested Strategy                      |\n",
    "| ---------- | --------------------------------------- |\n",
    "| High-Value | Loyalty rewards, early access offers    |\n",
    "| At-Risk    | Win-back emails, limited-time discounts |\n",
    "| Loyal      | Referral programs, upselling            |\n",
    "| New        | Welcome offers, onboarding campaigns    |\n",
    "| Potential  | Personalized recommendations, bundles   |\n"
   ]
  },
  {
   "cell_type": "markdown",
   "id": "a5e248ac-a98e-45f0-8530-472ec9be67d7",
   "metadata": {},
   "source": [
    "# 🚀 Advanced Enhancements for CLV Analysis\n",
    "Here are 6 powerful next-level additions, each with purpose and code.\n"
   ]
  },
  {
   "cell_type": "markdown",
   "id": "c3603048-70b0-4856-896b-32c4068c4bf0",
   "metadata": {},
   "source": [
    "## 1️⃣ RFM Segmentation with K-Means Clustering"
   ]
  },
  {
   "cell_type": "code",
   "execution_count": 61,
   "id": "d37e5f58-ea31-4c95-ac25-2b754be0672e",
   "metadata": {},
   "outputs": [
    {
     "data": {
      "image/png": "[encoded data removed]",
      "text/plain": [
       "<Figure size 700x400 with 1 Axes>"
      ]
     },
     "metadata": {},
     "output_type": "display_data"
    },
    {
     "data": {
      "text/html": [
       "<div>\n",
       "<style scoped>\n",
       "    .dataframe tbody tr th:only-of-type {\n",
       "        vertical-align: middle;\n",
       "    }\n",
       "\n",
       "    .dataframe tbody tr th {\n",
       "        vertical-align: top;\n",
       "    }\n",
       "\n",
       "    .dataframe thead th {\n",
       "        text-align: right;\n",
       "    }\n",
       "</style>\n",
       "<table border=\"1\" class=\"dataframe\">\n",
       "  <thead>\n",
       "    <tr style=\"text-align: right;\">\n",
       "      <th></th>\n",
       "      <th>Recency</th>\n",
       "      <th>CustomerAge</th>\n",
       "      <th>Frequency</th>\n",
       "      <th>UniqueInvoices</th>\n",
       "      <th>Monetary</th>\n",
       "      <th>AvgOrderValue</th>\n",
       "    </tr>\n",
       "    <tr>\n",
       "      <th>Cluster</th>\n",
       "      <th></th>\n",
       "      <th></th>\n",
       "      <th></th>\n",
       "      <th></th>\n",
       "      <th></th>\n",
       "      <th></th>\n",
       "    </tr>\n",
       "  </thead>\n",
       "  <tbody>\n",
       "    <tr>\n",
       "      <th>0</th>\n",
       "      <td>387.438084</td>\n",
       "      <td>46.567757</td>\n",
       "      <td>15.737150</td>\n",
       "      <td>1.437500</td>\n",
       "      <td>283.636519</td>\n",
       "      <td>40.357479</td>\n",
       "    </tr>\n",
       "    <tr>\n",
       "      <th>1</th>\n",
       "      <td>28.004570</td>\n",
       "      <td>562.324448</td>\n",
       "      <td>423.200305</td>\n",
       "      <td>17.708302</td>\n",
       "      <td>10099.130752</td>\n",
       "      <td>71.837598</td>\n",
       "    </tr>\n",
       "    <tr>\n",
       "      <th>2</th>\n",
       "      <td>30.630104</td>\n",
       "      <td>276.630905</td>\n",
       "      <td>58.328263</td>\n",
       "      <td>3.434748</td>\n",
       "      <td>921.527904</td>\n",
       "      <td>29.709887</td>\n",
       "    </tr>\n",
       "    <tr>\n",
       "      <th>3</th>\n",
       "      <td>277.498753</td>\n",
       "      <td>275.098504</td>\n",
       "      <td>93.574190</td>\n",
       "      <td>4.343516</td>\n",
       "      <td>1774.748396</td>\n",
       "      <td>51.985636</td>\n",
       "    </tr>\n",
       "  </tbody>\n",
       "</table>\n",
       "</div>"
      ],
      "text/plain": [
       "            Recency  CustomerAge   Frequency  UniqueInvoices      Monetary  \\\n",
       "Cluster                                                                      \n",
       "0        387.438084    46.567757   15.737150        1.437500    283.636519   \n",
       "1         28.004570   562.324448  423.200305       17.708302  10099.130752   \n",
       "2         30.630104   276.630905   58.328263        3.434748    921.527904   \n",
       "3        277.498753   275.098504   93.574190        4.343516   1774.748396   \n",
       "\n",
       "         AvgOrderValue  \n",
       "Cluster                 \n",
       "0            40.357479  \n",
       "1            71.837598  \n",
       "2            29.709887  \n",
       "3            51.985636  "
      ]
     },
     "execution_count": 61,
     "metadata": {},
     "output_type": "execute_result"
    }
   ],
   "source": [
    "from sklearn.preprocessing import StandardScaler\n",
    "from sklearn.cluster import KMeans\n",
    "import matplotlib.pyplot as plt\n",
    "\n",
    "# Use only RFM features\n",
    "rfm = clv_df[[\"Recency\", \"Frequency\", \"Monetary\"]].copy()\n",
    "\n",
    "# Log transformation to reduce skew\n",
    "rfm_log = np.log1p(rfm)\n",
    "\n",
    "# Scale data\n",
    "scaler = StandardScaler()\n",
    "rfm_scaled = scaler.fit_transform(rfm_log)\n",
    "\n",
    "# Determine optimal clusters with Elbow method\n",
    "sse = []\n",
    "for k in range(1, 11):\n",
    "    kmeans = KMeans(n_clusters=k, random_state=1)\n",
    "    kmeans.fit(rfm_scaled)\n",
    "    sse.append(kmeans.inertia_)\n",
    "\n",
    "plt.figure(figsize=(7, 4))\n",
    "plt.plot(range(1, 11), sse, marker='o')\n",
    "plt.xlabel(\"Number of clusters\")\n",
    "plt.ylabel(\"SSE (Inertia)\")\n",
    "plt.title(\"Elbow Method for Optimal Clusters\")\n",
    "plt.show()\n",
    "\n",
    "# Apply KMeans with optimal cluster (let's assume 4 for now)\n",
    "kmeans = KMeans(n_clusters=4, random_state=1)\n",
    "rfm[\"Cluster\"] = kmeans.fit_predict(rfm_scaled)\n",
    "\n",
    "# Merge back to main DataFrame\n",
    "clv_df[\"Cluster\"] = rfm[\"Cluster\"]\n",
    "\n",
    "# View cluster characteristics\n",
    "clv_df.groupby(\"Cluster\").mean(numeric_only=True)\n"
   ]
  },
  {
   "cell_type": "markdown",
   "id": "d992d55e-5783-4dbd-8950-ea3dacc1ba83",
   "metadata": {},
   "source": [
    "## 2️⃣ Time-Based CLV Forecast (Using Recency Trends)"
   ]
  },
  {
   "cell_type": "code",
   "execution_count": 62,
   "id": "4ccf1bd7-932b-4398-846d-4755aa3b65a9",
   "metadata": {},
   "outputs": [],
   "source": [
    "clv_df[\"Predicted_6M_CLV\"] = clv_df[\"AvgOrderValue\"] * (clv_df[\"Frequency\"] / clv_df[\"CustomerAge\"]) * 180\n",
    "clv_df[\"Predicted_12M_CLV\"] = clv_df[\"AvgOrderValue\"] * (clv_df[\"Frequency\"] / clv_df[\"CustomerAge\"]) * 365\n"
   ]
  },
  {
   "cell_type": "code",
   "execution_count": 63,
   "id": "d1731004-d405-4ed4-8099-8e9ff19180dc",
   "metadata": {},
   "outputs": [
    {
     "name": "stdout",
     "output_type": "stream",
     "text": [
      "Customer ID\n",
      "12346.0    3.490041e+04\n",
      "12347.0    2.522382e+03\n",
      "12348.0    1.004122e+03\n",
      "12349.0    1.398534e+03\n",
      "12350.0             inf\n",
      "               ...     \n",
      "18283.0    7.532064e+02\n",
      "18284.0             inf\n",
      "18285.0             inf\n",
      "18286.0    9.447668e+02\n",
      "18287.0    1.426019e+03\n",
      "Name: Predicted_6M_CLV, Length: 5878, dtype: float64\n",
      "Customer ID\n",
      "12346.0    7.077027e+04\n",
      "12347.0    5.114830e+03\n",
      "12348.0    2.036135e+03\n",
      "12349.0    2.835916e+03\n",
      "12350.0             inf\n",
      "               ...     \n",
      "18283.0    1.527335e+03\n",
      "18284.0             inf\n",
      "18285.0             inf\n",
      "18286.0    1.915777e+03\n",
      "18287.0    2.891650e+03\n",
      "Name: Predicted_12M_CLV, Length: 5878, dtype: float64\n"
     ]
    }
   ],
   "source": [
    "print(clv_df[\"Predicted_6M_CLV\"])\n",
    "print(clv_df[\"Predicted_12M_CLV\"])"
   ]
  },
  {
   "cell_type": "markdown",
   "id": "6ce9827f-0674-48f1-8d62-d96a9768afa6",
   "metadata": {},
   "source": [
    "## 3️⃣ CLV Bucketing with Business Labels"
   ]
  },
  {
   "cell_type": "code",
   "execution_count": 64,
   "id": "ba52f165-e167-4858-b30a-66d6c95527f7",
   "metadata": {},
   "outputs": [
    {
     "data": {
      "text/plain": [
       "CLV_Level\n",
       "Low     1470\n",
       "Top     1470\n",
       "Mid     1469\n",
       "High    1469\n",
       "Name: count, dtype: int64"
      ]
     },
     "execution_count": 64,
     "metadata": {},
     "output_type": "execute_result"
    }
   ],
   "source": [
    "clv_df[\"CLV_Level\"] = pd.qcut(clv_df[\"Monetary\"], q=4, labels=[\"Low\", \"Mid\", \"High\", \"Top\"])\n",
    "\n",
    "# Frequency count of segments\n",
    "clv_df[\"CLV_Level\"].value_counts()\n"
   ]
  },
  {
   "cell_type": "markdown",
   "id": "59f51c31-93b0-4267-922f-b2f4c52e8877",
   "metadata": {},
   "source": [
    "## 4️⃣ Cohort Analysis (Monthly Retention)"
   ]
  },
  {
   "cell_type": "code",
   "execution_count": 65,
   "id": "057ca29e-38e2-4a6e-a147-d3c8784caa6f",
   "metadata": {},
   "outputs": [
    {
     "data": {
      "image/png": "[encoded data removed]",
      "text/plain": [
       "<Figure size 1000x600 with 2 Axes>"
      ]
     },
     "metadata": {},
     "output_type": "display_data"
    }
   ],
   "source": [
    "df['InvoiceMonth'] = df['InvoiceDate'].dt.to_period('M')\n",
    "df['CohortMonth'] = df.groupby('Customer ID')['InvoiceDate'].transform('min').dt.to_period('M')\n",
    "\n",
    "# Cohort index: months since first purchase\n",
    "df['CohortIndex'] = (df['InvoiceMonth'].dt.to_timestamp() - df['CohortMonth'].dt.to_timestamp()).dt.days // 30\n",
    "\n",
    "# Pivot table for retention\n",
    "cohort_data = df.groupby(['CohortMonth', 'CohortIndex'])['Customer ID'].nunique().unstack(0)\n",
    "cohort_sizes = cohort_data.iloc[0]\n",
    "retention = cohort_data.divide(cohort_sizes, axis=1)\n",
    "\n",
    "plt.figure(figsize=(10,6))\n",
    "sns.heatmap(retention, cmap=\"Blues\", fmt=\".0%\", annot=True)\n",
    "plt.title(\"Monthly Retention by Customer Cohorts\")\n",
    "plt.xlabel(\"Cohort Month\")\n",
    "plt.ylabel(\"Months Since First Purchase\")\n",
    "plt.show()\n"
   ]
  },
  {
   "cell_type": "markdown",
   "id": "1f410ddf-9519-4761-a8ae-501becabbfaa",
   "metadata": {},
   "source": [
    "## 5️⃣ Customer Churn Prediction (Binary Classification)"
   ]
  },
  {
   "cell_type": "code",
   "execution_count": 66,
   "id": "19266904-66ff-43a4-8c94-5850cf0b3e04",
   "metadata": {},
   "outputs": [
    {
     "name": "stdout",
     "output_type": "stream",
     "text": [
      "              precision    recall  f1-score   support\n",
      "\n",
      "           0       1.00      1.00      1.00       722\n",
      "           1       1.00      1.00      1.00       748\n",
      "\n",
      "    accuracy                           1.00      1470\n",
      "   macro avg       1.00      1.00      1.00      1470\n",
      "weighted avg       1.00      1.00      1.00      1470\n",
      "\n"
     ]
    }
   ],
   "source": [
    "clv_df[\"Churned\"] = (clv_df[\"Recency\"] > 90).astype(int)\n",
    "\n",
    "from sklearn.ensemble import RandomForestClassifier\n",
    "from sklearn.metrics import classification_report\n",
    "\n",
    "features = [\"Recency\", \"Frequency\", \"AvgOrderValue\", \"CustomerAge\"]\n",
    "X = clv_df[features]\n",
    "y = clv_df[\"Churned\"]\n",
    "\n",
    "X_train, X_test, y_train, y_test = train_test_split(X, y, stratify=y, random_state=42)\n",
    "\n",
    "clf = RandomForestClassifier(n_estimators=100, random_state=42)\n",
    "clf.fit(X_train, y_train)\n",
    "\n",
    "y_pred = clf.predict(X_test)\n",
    "print(classification_report(y_test, y_pred))\n"
   ]
  },
  {
   "cell_type": "markdown",
   "id": "53e4a44c-d87c-4d0c-b1b8-6eb8c4ec1b95",
   "metadata": {},
   "source": [
    "## 6️⃣ Export Segments to CSV for Targeted Marketing"
   ]
  },
  {
   "cell_type": "code",
   "execution_count": 67,
   "id": "fdf28721-aeb8-4574-9c05-2c91f085fe06",
   "metadata": {},
   "outputs": [],
   "source": [
    "clv_df[clv_df[\"Cluster\"] == 0].to_csv(\"cluster_0.csv\")\n",
    "clv_df[clv_df[\"CLV_Level\"] == \"Top\"].to_csv(\"top_clv_customers.csv\")\n"
   ]
  },
  {
   "cell_type": "markdown",
   "id": "87589d6d-bd67-49e4-b7fc-655737787014",
   "metadata": {},
   "source": [
    "## 💡 Final Thoughts\n",
    "\n",
    "| Segment / Feature | Use Case                     |\n",
    "| ----------------- | ---------------------------- |\n",
    "| RFM + Clustering  | Automated segmentation       |\n",
    "| CLV Forecasting   | Predict revenue contribution |\n",
    "| Cohort Analysis   | Long-term retention insights |\n",
    "| Churn Model       | Prevent customer loss        |\n",
    "| CSV Exports       | Email / ad targeting         |\n"
   ]
  },
  {
   "cell_type": "code",
   "execution_count": null,
   "id": "0740b8ca-4e0a-4107-b11c-d446ade6df00",
   "metadata": {},
   "outputs": [],
   "source": []
  }
 ],
 "metadata": {
  "kernelspec": {
   "display_name": "Python 3 (ipykernel)",
   "language": "python",
   "name": "python3"
  },
  "language_info": {
   "codemirror_mode": {
    "name": "ipython",
    "version": 3
   },
   "file_extension": ".py",
   "mimetype": "text/x-python",
   "name": "python",
   "nbconvert_exporter": "python",
   "pygments_lexer": "ipython3",
   "version": "3.13.2"
  }
 },
 "nbformat": 4,
 "nbformat_minor": 5
}
